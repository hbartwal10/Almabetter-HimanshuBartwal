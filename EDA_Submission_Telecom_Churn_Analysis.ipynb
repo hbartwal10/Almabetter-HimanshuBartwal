{
  "nbformat": 4,
  "nbformat_minor": 0,
  "metadata": {
    "colab": {
      "private_outputs": true,
      "provenance": [],
      "include_colab_link": true
    },
    "kernelspec": {
      "name": "python3",
      "display_name": "Python 3"
    },
    "language_info": {
      "name": "python"
    }
  },
  "cells": [
    {
      "cell_type": "markdown",
      "metadata": {
        "id": "view-in-github",
        "colab_type": "text"
      },
      "source": [
        "<a href=\"https://colab.research.google.com/github/hbartwal10/Almabetter-HimanshuBartwal/blob/main/EDA_Submission_Telecom_Churn_Analysis.ipynb\" target=\"_parent\"><img src=\"https://colab.research.google.com/assets/colab-badge.svg\" alt=\"Open In Colab\"/></a>"
      ]
    },
    {
      "cell_type": "markdown",
      "source": [
        "# **Project Name** - **Telecom Churn Analysis**\n",
        "\n"
      ],
      "metadata": {
        "id": "vncDsAP0Gaoa"
      }
    },
    {
      "cell_type": "markdown",
      "source": [
        "##### **Project Type**    - Exploratory Data Analysis\n",
        "##### **Contribution**    - Individual\n",
        "##### **Team Member 1 -** Himanshu Bartwal"
      ],
      "metadata": {
        "id": "beRrZCGUAJYm"
      }
    },
    {
      "cell_type": "markdown",
      "source": [
        "# **Project Summary -**"
      ],
      "metadata": {
        "id": "FJNUwmbgGyua"
      }
    },
    {
      "cell_type": "markdown",
      "source": [
        "Write the summary here within 500-600 words.\n",
        "\n",
        "**Summary :** The telecom industry is highly competitive, and customer retention is a critical factor in ensuring the success of any telecommunications company. Orange S.A., a prominent French multinational telecom corporation, is facing the challenge of customer churn, where a significant number of users are canceling their subscriptions. In response to this issue, our exploratory data analysis (EDA) project aims to delve into the Orange Telecom's Churn Dataset, which comprises meticulously cleaned customer activity data and churn labels indicating whether a customer has canceled their subscription. The primary objective is to gain insights into the key factors contributing to customer churn and develop effective strategies to mitigate this trend.\n",
        "\n",
        "The dataset provides a comprehensive view of customer behavior, encompassing various features that reflect user interactions, preferences, and usage patterns. Through extensive exploration and analysis of this data, we aim to uncover underlying patterns, correlations, and potential indicators that may contribute to customer churn. Understanding the reasons behind customer attrition is crucial for Orange to implement targeted measures aimed at customer retention. Our analysis will involve examining factors such as call duration, data usage, customer service interactions, and other relevant features to identify patterns that differentiate churned customers from those who remain loyal.\n",
        "\n",
        "As part of the project, we will employ statistical and machine learning techniques to model customer churn prediction. By developing predictive models, we aim to create a tool that can forecast the likelihood of a customer churning based on their behavior and interactions with Orange's services. This predictive capability will enable the company to proactively address potential churners by implementing personalized retention strategies.\n",
        "\n",
        "In addition to predicting churn, our EDA will highlight actionable insights and recommendations for Orange to enhance customer satisfaction and loyalty. This may involve optimizing service plans, improving customer service processes, and introducing targeted promotions to incentivize customer retention. By identifying and addressing the root causes of churn, Orange can create a more customer-centric approach, ensuring that users receive the best value and experience from their telecom services.\n",
        "\n",
        "The success of this project is not only measured by the accuracy of the churn prediction models but also by the real-world impact on reducing customer churn rates. Implementing the insights gained from this analysis will contribute to Orange's ability to retain more customers, enhance service quality, and stay at the forefront of the competitive telecom landscape. Ultimately, the project aligns with Orange's business objectives of providing better services, understanding customer needs, and maintaining a strong position in the ever-evolving telecommunications industry. Through data-driven decision-making, Orange aims to ensure customer satisfaction, loyalty, and sustainable growth in a dynamic market"
      ],
      "metadata": {
        "id": "F6v_1wHtG2nS"
      }
    },
    {
      "cell_type": "markdown",
      "source": [
        "# **GitHub Link -**"
      ],
      "metadata": {
        "id": "w6K7xa23Elo4"
      }
    },
    {
      "cell_type": "markdown",
      "source": [
        "Provide your GitHub Link here. :https://github.com/hbartwal10/Almabetter-HimanshuBartwal"
      ],
      "metadata": {
        "id": "h1o69JH3Eqqn"
      }
    },
    {
      "cell_type": "markdown",
      "source": [
        "# **Problem Statement**\n"
      ],
      "metadata": {
        "id": "yQaldy8SH6Dl"
      }
    },
    {
      "cell_type": "markdown",
      "source": [
        "**Write Problem Statement Here.**\n",
        ">\n",
        "**Problem Statement** : Orange, a big telecom company, is losing customers, and we need to figure out why and how to stop it. We have a bunch of data about what customers do and whether they leave or not."
      ],
      "metadata": {
        "id": "DpeJGUA3kjGy"
      }
    },
    {
      "cell_type": "markdown",
      "source": [
        "#### **Define Your Business Objective?**"
      ],
      "metadata": {
        "id": "PH-0ReGfmX4f"
      }
    },
    {
      "cell_type": "markdown",
      "source": [
        "Answer Here.\n",
        ">\n",
        "**Business Objective** : The goal is to study this data, find patterns, and create smart solutions to keep customers happy and make sure they don't leave. We want to understand what makes customers leave and come up with ideas to make them stay. The success of this project will help Orange keep more customers, provide better services, and stay ahead in the telecom industry."
      ],
      "metadata": {
        "id": "PhDvGCAqmjP1"
      }
    },
    {
      "cell_type": "markdown",
      "source": [
        "# **General Guidelines** : -  "
      ],
      "metadata": {
        "id": "mDgbUHAGgjLW"
      }
    },
    {
      "cell_type": "markdown",
      "source": [
        "1.   Well-structured, formatted, and commented code is required.\n",
        "2.   Exception Handling, Production Grade Code & Deployment Ready Code will be a plus. Those students will be awarded some additional credits.\n",
        "     \n",
        "     The additional credits will have advantages over other students during Star Student selection.\n",
        "       \n",
        "             [ Note: - Deployment Ready Code is defined as, the whole .ipynb notebook should be executable in one go\n",
        "                       without a single error logged. ]\n",
        "\n",
        "3.   Each and every logic should have proper comments.\n",
        "4. You may add as many number of charts you want. Make Sure for each and every chart the following format should be answered.\n",
        "        \n",
        "\n",
        "```\n",
        "# Chart visualization code\n",
        "```\n",
        "            \n",
        "\n",
        "*   Why did you pick the specific chart?\n",
        "*   What is/are the insight(s) found from the chart?\n",
        "* Will the gained insights help creating a positive business impact?\n",
        "Are there any insights that lead to negative growth? Justify with specific reason.\n",
        "\n",
        "5. You have to create at least 20 logical & meaningful charts having important insights.\n",
        "\n",
        "\n",
        "[ Hints : - Do the Vizualization in  a structured way while following \"UBM\" Rule.\n",
        "\n",
        "U - Univariate Analysis,\n",
        "\n",
        "B - Bivariate Analysis (Numerical - Categorical, Numerical - Numerical, Categorical - Categorical)\n",
        "\n",
        "M - Multivariate Analysis\n",
        " ]\n",
        "\n",
        "\n",
        "\n"
      ],
      "metadata": {
        "id": "ZrxVaUj-hHfC"
      }
    },
    {
      "cell_type": "markdown",
      "source": [
        "# ***Let's Begin !***"
      ],
      "metadata": {
        "id": "O_i_v8NEhb9l"
      }
    },
    {
      "cell_type": "markdown",
      "source": [
        "## ***1. Know Your Data***"
      ],
      "metadata": {
        "id": "HhfV-JJviCcP"
      }
    },
    {
      "cell_type": "markdown",
      "source": [
        "### Installing Libraries (optional)"
      ],
      "metadata": {
        "id": "3IiMDNzVmuzI"
      }
    },
    {
      "cell_type": "code",
      "source": [
        "#!pip install numpy\n",
        "#!pip inatall pandas\n",
        "#!pip install matplotlib\n",
        "#!pip install seaborn\n",
        "#!pip install plotly"
      ],
      "metadata": {
        "id": "MGi9Eu_rm9Hr"
      },
      "execution_count": null,
      "outputs": []
    },
    {
      "cell_type": "markdown",
      "source": [
        "### Import Libraries"
      ],
      "metadata": {
        "id": "Y3lxredqlCYt"
      }
    },
    {
      "cell_type": "code",
      "source": [
        "# Import Libraries\n",
        "import numpy as np              # for array and mathematical calculations\n",
        "import pandas as pd             # for dataframes or tables\n",
        "import matplotlib.pyplot as plt # for charts\n",
        "import seaborn as sns           # for visualisation and charts\n",
        "import plotly.express as px     # for choropleth map plots\n",
        "import json                     # for maps\n",
        "# Exception control\n",
        "import warnings\n",
        "warnings.filterwarnings('ignore')"
      ],
      "metadata": {
        "id": "M8Vqi-pPk-HR"
      },
      "execution_count": null,
      "outputs": []
    },
    {
      "cell_type": "markdown",
      "source": [
        "### Dataset Loading"
      ],
      "metadata": {
        "id": "3RnN4peoiCZX"
      }
    },
    {
      "cell_type": "code",
      "source": [
        "from google.colab import drive\n",
        "drive.mount('/content/drive')"
      ],
      "metadata": {
        "id": "dLChu1UaQ6_N"
      },
      "execution_count": null,
      "outputs": []
    },
    {
      "cell_type": "code",
      "source": [
        "# Loading Dataset into workspace\n",
        "df = pd.read_csv('/content/drive/MyDrive/alma better/project/EDA/Telecom Churn.csv') # copy path from drive location\n",
        "\n",
        "# Making a copy  for any data loss\n",
        "original_df = df.copy()"
      ],
      "metadata": {
        "id": "4CkvbW_SlZ_R"
      },
      "execution_count": null,
      "outputs": []
    },
    {
      "cell_type": "markdown",
      "source": [
        "### Dataset First View : Assesing Data"
      ],
      "metadata": {
        "id": "x71ZqKXriCWQ"
      }
    },
    {
      "cell_type": "markdown",
      "source": [
        "Dataset Description\n",
        "\n",
        "Fields Description\n",
        "\n",
        "* STATE : 51 Unique States in United States of America\n",
        "\n",
        "* Account Length : Length of The Account\n",
        "* Area Code : 415 relates to San Francisco.408 is of San Jose and 510 is of City of Oakland\n",
        "* International Plan : Yes Indicate International Plan is Present and No Indicates no subscription for International Plan\n",
        "* VoiceMail Plan : Yes Indicates Voicemail Plan is Present and No Indicates no subscription for VoiceMail Plan\n",
        "* Number vmail messages : Number of Voicemail Messages ranging from 0 to 50\n",
        "* Total day minutes : Total Number of Minutes Spent By Customers in Morning\n",
        "* Total day calls : Total Number of Calls made by Customer in Morning.\n",
        "* Total day charge : Total Charge to the Customers in Morning.\n",
        "* Total eve minutes : Total Number of Minutes Spent By Customers in Evening\n",
        "* Total eve calls : Total Number of Calls made by Customer in Evening.\n",
        "* Total eve charge : Total Charge to the Customers in Evening.\n",
        "* Total night minutes : Total Number of Minutes Spent By Customers in the Night.\n",
        "* Total night calls : Total Number of Calls made by Customer in Night.\n",
        "* Total night charge : Total Charge to the Customers in Night.\n",
        "* Total international minutes : Total Number of Minutes Spent By Customers in international call.\n",
        "* Total international calls : Total Number of Calls made by Customer internationally.\n",
        "* Total international charge : Total Charge to the Customers in international call.\n",
        "* Churn : whether a person has left or not."
      ],
      "metadata": {
        "id": "XZ8UklHyvD1A"
      }
    },
    {
      "cell_type": "markdown",
      "source": [
        "## List of States in United States\n",
        "* AL | Alabama\n",
        "*AK | Alaska\n",
        "*AZ | Arizona\n",
        "*AR | Arkansas\n",
        "*CA | California\n",
        "*CO | Colorado\n",
        "*CT | Connecticut\n",
        "*DE | Delaware\n",
        "*FL | Florida\n",
        "*GA | Georgia\n",
        "*HI | Hawaii\n",
        "*ID | Idaho\n",
        "*IL | Illinois\n",
        "*IN | Indiana\n",
        "*IA | Iowa\n",
        "*KS | Kansas\n",
        "*KY | Kentucky\n",
        "*LA | Louisiana\n",
        "*ME | Maine\n",
        "*MD | Maryland\n",
        "*MA | Massachusetts\n",
        "*MI | Michigan\n",
        "*MN | Minnesota\n",
        "*MS | Mississippi\n",
        "*MO | Missouri\n",
        "*MT | Montana\n",
        "*NE | Nebraska\n",
        "*NV | Nevada\n",
        "*NH | New Hampshire\n",
        "*NJ | New Jersey\n",
        "*NM | New Mexico\n",
        "*NY | New York\n",
        "*NC | North Carolina\n",
        "*ND | North Dakota\n",
        "*OH | Ohio\n",
        "*OK | Oklahoma\n",
        "*OR | Oregon\n",
        "*PA | Pennsylvania\n",
        "* RI | Rhode Island\n",
        "* SC | South Carolina\n",
        "* SD | South Dakota\n",
        "* TN | Tennessee\n",
        "* TX | Texas\n",
        "* UT | Utah\n",
        "* VT | Vermont\n",
        "* VA |  Virginia\n",
        "* WA | Washington\n",
        "* WV | West Virginia\n",
        "* WI | Wisconsin\n",
        "* WY | Wyoming\n",
        "* DC | District of Columbia\n",
        "* AS | American Samoa\n",
        "* GU | Guam\n",
        "* MP | Northern Mariana Islands\n",
        "* PR | Puerto Rico\n",
        "* UM | United States Minor Outlying Islands\n",
        "* VI | Virgin Islands, U.S."
      ],
      "metadata": {
        "id": "pNTJVHgvMNjh"
      }
    },
    {
      "cell_type": "markdown",
      "source": [
        "![map.jpg](data:image/jpeg;base64,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)"
      ],
      "metadata": {
        "id": "Q1zLeVv0Q49W"
      }
    },
    {
      "cell_type": "code",
      "source": [
        "# Dataset First Look\n",
        "df"
      ],
      "metadata": {
        "id": "LWNFOSvLl09H"
      },
      "execution_count": null,
      "outputs": []
    },
    {
      "cell_type": "code",
      "source": [
        "df.head() # first five rows of data"
      ],
      "metadata": {
        "id": "sb7rfIiDqnG_"
      },
      "execution_count": null,
      "outputs": []
    },
    {
      "cell_type": "code",
      "source": [
        "df.tail() # last five rows of data"
      ],
      "metadata": {
        "id": "quUlqSXQsRAJ"
      },
      "execution_count": null,
      "outputs": []
    },
    {
      "cell_type": "markdown",
      "source": [
        "### Dataset Rows & Columns count"
      ],
      "metadata": {
        "id": "7hBIi_osiCS2"
      }
    },
    {
      "cell_type": "code",
      "source": [
        "# Dataset Rows & Columns count\n",
        "df.shape  # as seen above the shape matches with the dataset"
      ],
      "metadata": {
        "id": "Kllu7SJgmLij"
      },
      "execution_count": null,
      "outputs": []
    },
    {
      "cell_type": "markdown",
      "source": [
        "we found out that it contains 3333 rows and 20 columns"
      ],
      "metadata": {
        "id": "mYwmmq2jewz6"
      }
    },
    {
      "cell_type": "markdown",
      "source": [
        "### Dataset Information"
      ],
      "metadata": {
        "id": "JlHwYmJAmNHm"
      }
    },
    {
      "cell_type": "code",
      "source": [
        "# Dataset Info\n",
        "df.info()"
      ],
      "metadata": {
        "id": "e9hRXRi6meOf"
      },
      "execution_count": null,
      "outputs": []
    },
    {
      "cell_type": "code",
      "source": [
        "df.describe()"
      ],
      "metadata": {
        "id": "ipVtk_fSK5Fb"
      },
      "execution_count": null,
      "outputs": []
    },
    {
      "cell_type": "markdown",
      "source": [
        "#### Duplicate Values"
      ],
      "metadata": {
        "id": "35m5QtbWiB9F"
      }
    },
    {
      "cell_type": "code",
      "source": [
        "# Dataset Duplicate Value Count\n",
        "df.duplicated().sum()"
      ],
      "metadata": {
        "id": "1sLdpKYkmox0"
      },
      "execution_count": null,
      "outputs": []
    },
    {
      "cell_type": "markdown",
      "source": [
        "- we observed that there are no duplicate values in the data"
      ],
      "metadata": {
        "id": "9YG7Iycue6ws"
      }
    },
    {
      "cell_type": "markdown",
      "source": [
        "#### Missing Values/Null Values"
      ],
      "metadata": {
        "id": "PoPl-ycgm1ru"
      }
    },
    {
      "cell_type": "code",
      "source": [
        "# Missing Values/Null Values Count\n",
        "missing = df.isna().sum()\n",
        "missing"
      ],
      "metadata": {
        "id": "GgHWkxvamxVg"
      },
      "execution_count": null,
      "outputs": []
    },
    {
      "cell_type": "markdown",
      "source": [
        "- we observed that there are no null values present in the data"
      ],
      "metadata": {
        "id": "AlMDzz1wfDgJ"
      }
    },
    {
      "cell_type": "code",
      "source": [
        "# Finding correlation in dataset wrt. to Churn\n",
        "df.corr()['Churn']*100"
      ],
      "metadata": {
        "id": "GxynHply1qE6"
      },
      "execution_count": null,
      "outputs": []
    },
    {
      "cell_type": "markdown",
      "source": [
        "* From the correlation table above it is observed that total day minutes, total day charge and customer service calls are mostly correlated with respect to churn.\n",
        "* Voicemail messages and Total international call are negatively correlated to churn."
      ],
      "metadata": {
        "id": "gRBKsNil2r4B"
      }
    },
    {
      "cell_type": "code",
      "source": [
        "  # Visualizing the missing values\n",
        "sns.heatmap(df.isna())"
      ],
      "metadata": {
        "id": "3q5wnI3om9sJ"
      },
      "execution_count": null,
      "outputs": []
    },
    {
      "cell_type": "markdown",
      "source": [
        "- As clear from the heat map above it validates our finding that the data has no null or zero values."
      ],
      "metadata": {
        "id": "fep5GaZ2gqla"
      }
    },
    {
      "cell_type": "code",
      "source": [
        "df.columns"
      ],
      "metadata": {
        "id": "kIxzxIZ_kvJp"
      },
      "execution_count": null,
      "outputs": []
    },
    {
      "cell_type": "markdown",
      "source": [
        "### What did you know about your dataset?"
      ],
      "metadata": {
        "id": "H0kj-8xxnORC"
      }
    },
    {
      "cell_type": "markdown",
      "source": [
        "Answer Here\n",
        ">\n",
        "* It is clear from assesing the data that it contains 3333 rows and 20 columns.\n",
        "* the data have no null and duplicate values present.\n",
        "* it has 5 categorical columns (State, Area code, International plan, Voice mail plan, Churn) and 15 numerical columns (Account length, Number vmail messages, Total day minutes,\n",
        "Total day calls, Total day charge, Total eve minutes, Total eve calls, Total eve charge, Total night minutes, Total night calls, Total night charge, Total intl minutes, Total intl calls, Total intl charge, Customer service calls)"
      ],
      "metadata": {
        "id": "gfoNAAC-nUe_"
      }
    },
    {
      "cell_type": "markdown",
      "source": [
        "## ***2. Understanding Your Variables***"
      ],
      "metadata": {
        "id": "nA9Y7ga8ng1Z"
      }
    },
    {
      "cell_type": "code",
      "source": [
        "# Dataset Columns\n",
        "df.columns"
      ],
      "metadata": {
        "id": "j7xfkqrt5Ag5"
      },
      "execution_count": null,
      "outputs": []
    },
    {
      "cell_type": "code",
      "source": [
        "# Dataset Describe\n",
        "df.describe()"
      ],
      "metadata": {
        "id": "DnOaZdaE5Q5t"
      },
      "execution_count": null,
      "outputs": []
    },
    {
      "cell_type": "markdown",
      "source": [
        "### Variables Description"
      ],
      "metadata": {
        "id": "PBTbrJXOngz2"
      }
    },
    {
      "cell_type": "markdown",
      "source": [
        "Answer Here\n",
        ">\n",
        "* State : (Categorical data) - 51 Unique States in USA.\n",
        "* Account Length : (Numerical data) - Tenure of the Account.\n",
        "* Area Code : (Categorical data) - Code for different areas.\n",
        "* International Plan : (Categorical data) - International subscription plan taken Yes/No.\n",
        "* VoiceMail Plan : (Categorical data) - Voicemail subscription plan taken Yes/No.\n",
        "* Number vmail messages : (Numerical data) - Number of Voicemail Messages.\n",
        "* Day minutes : (Numerical data) - Total Number of Minutes in Morning.\n",
        "* Day calls : (Numerical data) - Total Number of Calls in Morning.\n",
        "* Day charge : (Numerical data) - Total Charge in Morning.\n",
        "* Eve minutes : (Numerical data) - Total Number of Minutes in Evening.\n",
        "* Eve calls : (Numerical data) - Total Number of Calls in Evening.\n",
        "* Eve charge : (Numerical data) - Total Charge in Evening.\n",
        "* Night minutes : (Numerical data) - Total Number of Minutes at Night.\n",
        "* Night calls : (Numerical data) - Total Number of Calls at Night.\n",
        "* Night charge : (Numerical data) - Total Charge at Night.\n",
        "* International minutes : (Numerical data) - Total Number of Minutes in international call.\n",
        "* International calls : (Numerical data) - Total Number of International Calls.\n",
        "* International charge : (Numerical data) - Total Charge to international call.\n",
        "* Service calls : (Numerical data) - Total service calls.\n",
        "* Churn : (Categorical data) - Whether a person has left or not."
      ],
      "metadata": {
        "id": "aJV4KIxSnxay"
      }
    },
    {
      "cell_type": "markdown",
      "source": [
        "### Check Unique Values for each variable."
      ],
      "metadata": {
        "id": "u3PMJOP6ngxN"
      }
    },
    {
      "cell_type": "code",
      "source": [
        "# Check Unique Values for each variable.\n",
        "for i in df.columns:\n",
        "  print(\"No. of unique values in\",i,\"=\",df[i].nunique(),\"\\n  which are -\\n\",df[i].unique(),\"\\n\")"
      ],
      "metadata": {
        "id": "zms12Yq5n-jE"
      },
      "execution_count": null,
      "outputs": []
    },
    {
      "cell_type": "markdown",
      "source": [
        "## 3. ***Data Wrangling***"
      ],
      "metadata": {
        "id": "dauF4eBmngu3"
      }
    },
    {
      "cell_type": "markdown",
      "source": [
        "### Data Wrangling Code"
      ],
      "metadata": {
        "id": "bKJF3rekwFvQ"
      }
    },
    {
      "cell_type": "markdown",
      "source": [
        "## Univariate Analysis"
      ],
      "metadata": {
        "id": "ZWbteMwRM97V"
      }
    },
    {
      "cell_type": "code",
      "source": [
        "# Write your code to make your dataset analysis ready.\n",
        "df.head()"
      ],
      "metadata": {
        "id": "wk-9a2fpoLcV"
      },
      "execution_count": null,
      "outputs": []
    },
    {
      "cell_type": "code",
      "source": [
        "# Analysis on State Column\n",
        "\n",
        "# Select column for univariate analysis\n",
        "column_for_univariate_state_analysis = 'State'\n",
        "# Value counts for each state\n",
        "state_counts = df[column_for_univariate_state_analysis].value_counts()\n",
        "# Calculate percentage of each state\n",
        "state_percentages = state_counts / len(df) * 100\n",
        "# Unique State Count\n",
        "print(\"Total No. of states : \",df['State'].nunique())\n",
        "# Value counts table with count and percentage\n",
        "state_counts_table = pd.DataFrame({'State': state_counts.index, 'Customers': state_counts.values, 'Percentage': state_percentages.values})\n",
        "print(\"Number of customers per state:\")\n",
        "print(state_counts_table)"
      ],
      "metadata": {
        "id": "BoGqJ6LDM6p-"
      },
      "execution_count": null,
      "outputs": []
    },
    {
      "cell_type": "code",
      "source": [
        "# Analysis on account length column\n",
        "\n",
        "# Select column for univariate analysis\n",
        "column_for_univariate_Account_length_analysis = 'Account length'\n",
        "# Summary statistics for the column\n",
        "summary_stats = df[column_for_univariate_Account_length_analysis].describe()\n",
        "# Summary statistics table\n",
        "print(f\"Summary Statistics for {column_for_univariate_Account_length_analysis}:\")\n",
        "print(summary_stats)\n",
        "# Create bins and labels for categorization\n",
        "bins = [0, 50, 100, 150, 200, 250, 300, float('inf')]\n",
        "labels = ['0-50', '51-100', '101-150', '151-200', '201-250', '251-300', '300+']\n",
        "# Categorize the 'Account length' column\n",
        "df['Account length category'] = pd.cut(df[column_for_univariate_Account_length_analysis], bins=bins, labels=labels, right=False)\n",
        "# Summary statistics for the categorized column\n",
        "summary_stats_category = df['Account length category'].value_counts()\n",
        "# Value counts table for the categorized column\n",
        "category_counts_table = pd.DataFrame({'Account Length Category': summary_stats_category.index, 'Count': summary_stats_category.values})\n",
        "print(\"\\nAccount Length Value Counts by Category:\")\n",
        "print(category_counts_table)"
      ],
      "metadata": {
        "id": "hc9pBt-ST6-6"
      },
      "execution_count": null,
      "outputs": []
    },
    {
      "cell_type": "code",
      "source": [
        "# Analysis on Area code column\n",
        "\n",
        "# Select column for univariate analysis\n",
        "column_for_univariate_Area_code_analysis = 'Area code'\n",
        "# Value counts for each area code\n",
        "area_code_counts = df[column_for_univariate_Area_code_analysis].value_counts()\n",
        "# Unique Area code count\n",
        "print(\"Total No. of Area Codes : \",df['Area code'].nunique())\n",
        "# Value counts table for area codes\n",
        "area_code_counts_table = pd.DataFrame({'Area Code': area_code_counts.index, 'Count': area_code_counts.values})\n",
        "print(\"Area Code Value Counts:\")\n",
        "print(area_code_counts_table)"
      ],
      "metadata": {
        "id": "WNdlnLHST6zZ"
      },
      "execution_count": null,
      "outputs": []
    },
    {
      "cell_type": "code",
      "source": [
        "# Analysis on international plan\n",
        "\n",
        "# Select column for univariate analysis\n",
        "column_for_univariate_International_plan_analysis = 'International plan'\n",
        "# Value counts table for international plans\n",
        "international_plan_counts = df[column_for_univariate_International_plan_analysis].value_counts()\n",
        "international_plan_counts_table = pd.DataFrame({'International Plan': international_plan_counts.index, 'Count': international_plan_counts.values})\n",
        "print(\"International Plan Value Counts:\")\n",
        "print(international_plan_counts_table)"
      ],
      "metadata": {
        "id": "D8BAcIBAB66r"
      },
      "execution_count": null,
      "outputs": []
    },
    {
      "cell_type": "code",
      "source": [
        "# Analysis on Voice mail plan\n",
        "\n",
        "# Select column for univariate analysis\n",
        "column_for_univariate_Voice_mail_plan_analysis = 'Voice mail plan'\n",
        "# Value counts table for Voice mail plan\n",
        "voice_mail_plan_counts = df[column_for_univariate_Voice_mail_plan_analysis].value_counts()\n",
        "voice_mail_plan_counts_table = pd.DataFrame({'Voice mail plan': voice_mail_plan_counts.index, 'Count': voice_mail_plan_counts.values})\n",
        "print(\"Voice mail plan Value Counts:\")\n",
        "print(voice_mail_plan_counts_table)"
      ],
      "metadata": {
        "id": "8BpoJ23veUMS"
      },
      "execution_count": null,
      "outputs": []
    },
    {
      "cell_type": "code",
      "source": [
        "# Analysis on Number of Voice mail messages column\n",
        "\n",
        "# Select column for univariate analysis\n",
        "column_for_univariate_Number_vmail_messages_analysis = 'Number vmail messages'\n",
        "# Exclude zero values\n",
        "non_zero_values = df[df[column_for_univariate_Number_vmail_messages_analysis] > 0][column_for_univariate_Number_vmail_messages_analysis]\n",
        "# Summary statistics for the non-zero values\n",
        "summary_stats_non_zero = non_zero_values.describe()\n",
        "# Summary statistics table for non-zero values\n",
        "print(f\"Summary Statistics for {column_for_univariate_Number_vmail_messages_analysis} (excluding zero values):\")\n",
        "print(summary_stats_non_zero)"
      ],
      "metadata": {
        "id": "A5nMG9idT6ig"
      },
      "execution_count": null,
      "outputs": []
    },
    {
      "cell_type": "code",
      "source": [
        "# Analysis on day columns (Total day minutes, Total day calls, Total day charge)\n",
        "\n",
        "# Select columns for univariate analysis\n",
        "columns_for_univariate_analysis_day = ['Total day minutes', 'Total day calls', 'Total day charge']\n",
        "# Summary statistics for the columns\n",
        "summary_stats_day_metrics = df[columns_for_univariate_analysis_day].describe()\n",
        "print(\"Summary Statistics for Day Metrics:\")\n",
        "print(summary_stats_day_metrics)"
      ],
      "metadata": {
        "id": "lIc7IVGFjEDm"
      },
      "execution_count": null,
      "outputs": []
    },
    {
      "cell_type": "code",
      "source": [
        "# Analysis on evening columns (Total eve minutes, Total eve calls, Total eve charge)\n",
        "\n",
        "# Select columns for univariate analysis\n",
        "columns_for_univariate_analysis_eve = ['Total eve minutes', 'Total eve calls', 'Total eve charge']\n",
        "# Summary statistics for the columns\n",
        "summary_stats_eve_metrics = df[columns_for_univariate_analysis_eve].describe()\n",
        "print(\"Summary Statistics for Evening Metrics:\")\n",
        "print(summary_stats_eve_metrics)"
      ],
      "metadata": {
        "id": "f-qQNpplm_N_"
      },
      "execution_count": null,
      "outputs": []
    },
    {
      "cell_type": "code",
      "source": [
        "# Analysis on night columns (Total night minutes, Total night calls, Total night charge)\n",
        "\n",
        "# Select columns for univariate analysis\n",
        "columns_for_univariate_analysis_night = ['Total night minutes', 'Total night calls', 'Total night charge']\n",
        "# Summary statistics for the columns\n",
        "summary_stats_night_metrics = df[columns_for_univariate_analysis_night].describe()\n",
        "print(\"Summary Statistics for Night Metrics:\")\n",
        "print(summary_stats_night_metrics)"
      ],
      "metadata": {
        "id": "jds1HH99PnMb"
      },
      "execution_count": null,
      "outputs": []
    },
    {
      "cell_type": "code",
      "source": [
        "# Analysis on international columns (Total intl minutes, Total intl calls, Total intl charge)\n",
        "\n",
        "# Select columns for univariate analysis\n",
        "columns_for_univariate_analysis_intl = ['Total intl minutes', 'Total intl calls', 'Total intl charge']\n",
        "# Filter out rows where the specified columns are not zero\n",
        "df_filtered = df[df[columns_for_univariate_analysis_intl] != 0]\n",
        "# Summary statistics for the columns\n",
        "summary_stats_intl_metrics_filtered = df_filtered[columns_for_univariate_analysis_intl].describe()\n",
        "print(\"Summary Statistics for International Metrics: (Excluding Zero):\")\n",
        "print(summary_stats_intl_metrics_filtered)"
      ],
      "metadata": {
        "id": "KbyslndxPnI9"
      },
      "execution_count": null,
      "outputs": []
    },
    {
      "cell_type": "code",
      "source": [
        "# Analysis on Customer service calls column\n",
        "\n",
        "# Select the column for univariate analysis\n",
        "column_for_univariate_analysis_service_calls = 'Customer service calls'\n",
        "# Value counts for each category\n",
        "value_counts_service_calls = df[column_for_univariate_analysis_service_calls].value_counts()\n",
        "percentage_service_calls = value_counts_service_calls / len(df) * 100\n",
        "# Create a summary table\n",
        "summary_table = pd.DataFrame({\n",
        "    'Count': value_counts_service_calls,\n",
        "    'Percentage': percentage_service_calls.round(1)\n",
        "})\n",
        "print(f\"Summary Statistics for {column_for_univariate_analysis_service_calls}:\\n{summary_table}\")"
      ],
      "metadata": {
        "id": "DjaKPQVKjWvD"
      },
      "execution_count": null,
      "outputs": []
    },
    {
      "cell_type": "code",
      "source": [
        "# Analysis on Churn\n",
        "\n",
        "# Select the column for univariate analysis\n",
        "column_for_univariate_analysis_churn = 'Churn'\n",
        "# Value counts for each category\n",
        "value_counts_churn = df[column_for_univariate_analysis_churn].value_counts()\n",
        "percentage_churn = value_counts_churn / len(df) * 100\n",
        "# Create a summary table\n",
        "summary_table_churn = pd.DataFrame({\n",
        "    'Count': value_counts_churn,\n",
        "    'Percentage': percentage_churn.round(1)\n",
        "})\n",
        "print(f\"Summary Statistics for {column_for_univariate_analysis_churn}:\\n{summary_table_churn}\")"
      ],
      "metadata": {
        "id": "9k-Vth5VjWqg"
      },
      "execution_count": null,
      "outputs": []
    },
    {
      "cell_type": "markdown",
      "source": [
        "## Bivariate Analysis / Multivariate Analysis"
      ],
      "metadata": {
        "id": "nBrrfkCMeTBg"
      }
    },
    {
      "cell_type": "code",
      "source": [
        "# Bivariate analysis on State and Churn column\n",
        "\n",
        "# Calculate churn percentage for each state\n",
        "state_churn_percentage = df.groupby('State')['Churn'].mean() * 100\n",
        "# Sort states in descending order of churn percentage\n",
        "sorted_states = state_churn_percentage.sort_values(ascending=False).index\n",
        "# Create a summary table\n",
        "summary_table = pd.DataFrame({\n",
        "    'Total Count': df['State'].value_counts(),\n",
        "    'Churn Percentage': state_churn_percentage[sorted_states]\n",
        "})\n",
        "# Sort the summary table based on churn percentage\n",
        "summary_table = summary_table.sort_values(by='Churn Percentage', ascending=False)\n",
        "# Print the sorted summary table\n",
        "print(\"Sorted Summary Table:\")\n",
        "print(summary_table)\n",
        "\n",
        "# Data extraction for Mapping\n",
        "\n",
        "# Loading json file of United States\n",
        "us_states = json.load(open(\"/content/drive/MyDrive/alma better/project/EDA/us-states.json\"))\n",
        "# Creating a dictionary to store feature\n",
        "state_id_map = {}\n",
        "for feature in us_states['features']:\n",
        "  state_id_map[feature['properties']['name']] = feature['id']\n",
        "# Loading Shortform file to map it with json file\n",
        "df_Short_Form = pd.read_csv(\"/content/drive/MyDrive/alma better/project/EDA/State_Shortform.csv\",encoding=\"latin-1\")\n",
        "# Creating new Datafarame for linking\n",
        "merge = pd.merge(left=df_Short_Form, right=(df.groupby(['State'])[\"Churn\"].mean()*100).sort_values(ascending=True).reset_index(name ='% Churn'), on='State')\n",
        "merge['id'] = merge['name'].apply(lambda x:state_id_map[x])"
      ],
      "metadata": {
        "id": "iQD5poQMvpJJ"
      },
      "execution_count": null,
      "outputs": []
    },
    {
      "cell_type": "code",
      "source": [
        "# Bivariate analysis on Account Length and Churn column\n",
        "\n",
        "# Calculate counts and churn percentages for each category\n",
        "category_summary = pd.DataFrame({\n",
        "    'Count': df['Account length category'].value_counts(),\n",
        "    'Churn Percentage': df.groupby('Account length category')['Churn'].mean() * 100\n",
        "}).sort_index().sort_values(by='Churn Percentage', ascending=False)\n",
        "# Display the summary table\n",
        "print(\"Summary Table for Account Length Category:\")\n",
        "print(category_summary)"
      ],
      "metadata": {
        "id": "FAQziNtqd6sr"
      },
      "execution_count": null,
      "outputs": []
    },
    {
      "cell_type": "code",
      "source": [
        "# Bivariate analysis on Area Code and Churn column\n",
        "\n",
        "# Calculate churn percentages and total counts for each 'Area code'\n",
        "area_code_summary = df.groupby('Area code')['Churn'].agg(['mean', 'count'])\n",
        "area_code_summary.columns = ['Churn Percentage', 'Total Count']\n",
        "# Calculate total count of True and False instances for each 'Area code'\n",
        "total_true_counts = df[df['Churn'] == True].groupby('Area code').size().rename('Total True Count')\n",
        "total_false_counts = df[df['Churn'] == False].groupby('Area code').size().rename('Total False Count')\n",
        "# Merge the total counts into the summary table\n",
        "area_code_summary = area_code_summary.merge(total_true_counts, left_index=True, right_index=True, how='left')\n",
        "area_code_summary = area_code_summary.merge(total_false_counts, left_index=True, right_index=True, how='left')\n",
        "# Fill NaN values with 0 (in case there are no instances of True or False for a specific 'Area code')\n",
        "area_code_summary.fillna(0, inplace=True)\n",
        "# Display the summary table\n",
        "print(\"Churn Summary by Area Code:\")\n",
        "print(area_code_summary)"
      ],
      "metadata": {
        "id": "eUXtsFnDd7hF"
      },
      "execution_count": null,
      "outputs": []
    },
    {
      "cell_type": "code",
      "source": [
        "# Bivariate analysis on State and Area Code\n",
        "\n",
        "# Calculate the total number of users for each state in different area codes\n",
        "state_area_counts = df.groupby(['Area code', 'State']).size().reset_index(name='User Count')\n",
        "# Sort the DataFrame by 'User Count' in descending order\n",
        "state_area_counts_sorted = state_area_counts.sort_values(by=['Area code', 'User Count'], ascending=[True, False])\n",
        "# Get the top 5 and bottom 5 states for each area code\n",
        "top5_states = state_area_counts_sorted.groupby('Area code').head(5)\n",
        "bottom5_states = state_area_counts_sorted.groupby('Area code').tail(5)\n",
        "# Display the top 5 and bottom 5 states for each area code\n",
        "print(\"Top 5 States in Different Area Codes:\")\n",
        "print(top5_states)\n",
        "print(\"\\nBottom 5 States in Different Area Codes:\")\n",
        "print(bottom5_states)"
      ],
      "metadata": {
        "id": "GNfV2Rw5jvge"
      },
      "execution_count": null,
      "outputs": []
    },
    {
      "cell_type": "code",
      "source": [
        "# Multivariate analysis on State, Area Code & Churn\n",
        "\n",
        "# Calculate churn percentages for each state in different area codes\n",
        "state_area_churn = df.groupby(['Area code', 'State'])['Churn'].mean().reset_index(name='Churn Percentage')\n",
        "# Sort the DataFrame by 'Churn Percentage' in descending order\n",
        "state_area_churn_sorted = state_area_churn.sort_values(by=['Area code', 'Churn Percentage'], ascending=[True, False])\n",
        "# Get the top 5 and bottom 5 states for each area code\n",
        "top5_states_churn = state_area_churn_sorted.groupby('Area code').head(5)\n",
        "bottom5_states_churn = state_area_churn_sorted.groupby('Area code').tail(5)\n",
        "# Display the top 5 and bottom 5 states for each area code based on churn percentage\n",
        "print(\"Top 5 States in Different Area Codes (Based on Churn Percentage):\")\n",
        "print(top5_states_churn)\n",
        "print(\"\\nBottom 5 States in Different Area Codes (Based on Churn Percentage):\")\n",
        "print(bottom5_states_churn)"
      ],
      "metadata": {
        "id": "tKIFFm5CjvVH"
      },
      "execution_count": null,
      "outputs": []
    },
    {
      "cell_type": "code",
      "source": [
        "# Bivariate analysis on Account length ans State column\n",
        "\n",
        "# Calculate summary statistics for account length based on states\n",
        "state_account_summary = df.groupby('State')['Account length'].agg(['mean', 'median', 'count']).reset_index()\n",
        "state_account_summary.columns = ['State', 'Mean Account Length', 'Median Account Length', 'Number of Customers']\n",
        "# Arrange the summary table in descending order based on the mean account length\n",
        "state_account_summary_sorted = state_account_summary.sort_values(by='Mean Account Length', ascending=False)\n",
        "# Display the sorted summary table\n",
        "print(\"Summary Statistics for Account Length Based on States (Descending Order):\")\n",
        "print(state_account_summary_sorted)"
      ],
      "metadata": {
        "id": "amukbSjvvBGt"
      },
      "execution_count": null,
      "outputs": []
    },
    {
      "cell_type": "code",
      "source": [
        "# Multivariate analysis on International plan, voicemail plan and State column\n",
        "\n",
        "# Summary statistics for the number of states based on International Plan\n",
        "international_plan_summary = df.groupby('International plan')['State'].nunique().reset_index(name='Number of States')\n",
        "# Summary statistics for the number of states based on Voicemail Plan\n",
        "voicemail_plan_summary = df.groupby('Voice mail plan')['State'].nunique().reset_index(name='Number of States')\n",
        "# Display the summary tables\n",
        "print(\"Summary Statistics for the Number of States Based on International Plan:\")\n",
        "print(international_plan_summary)\n",
        "\n",
        "print(\"\\nSummary Statistics for the Number of States Based on Voicemail Plan:\")\n",
        "print(voicemail_plan_summary)\n",
        "\n",
        "# Find states with International Plan\n",
        "states_with_international_plan = set(df.loc[df['International plan'] == 'Yes', 'State'].unique())\n",
        "# Find states without International Plan\n",
        "states_without_international_plan = set(df.loc[df['International plan'] == 'No', 'State'].unique())\n",
        "# Find the difference\n",
        "difference_states =  states_without_international_plan - states_with_international_plan\n",
        "# Display the states with International Plan but not without International Plan\n",
        "print(\"State have no user with International plans\")\n",
        "print(difference_states)"
      ],
      "metadata": {
        "id": "8isqMCAovA-w"
      },
      "execution_count": null,
      "outputs": []
    },
    {
      "cell_type": "code",
      "source": [
        "# Bivariate analysis on State and International Plan column\n",
        "\n",
        "# Calculate average international plan per state\n",
        "avg_intl_plan_per_state = (df.groupby('State')['International plan'].apply(lambda x: (x == 'Yes').mean())*100).reset_index()\n",
        "avg_intl_plan_per_state.columns = ['State', '% International Plan']\n",
        "# Arrange in descending order\n",
        "avg_intl_plan_per_state = avg_intl_plan_per_state.sort_values(by='% International Plan', ascending=False)\n",
        "# Display the results\n",
        "print(\"Average International Plan per State:\")\n",
        "print(avg_intl_plan_per_state)"
      ],
      "metadata": {
        "id": "CpBewHG7xrT-"
      },
      "execution_count": null,
      "outputs": []
    },
    {
      "cell_type": "code",
      "source": [
        "# Bivarite analysis on International plan and International calls\n",
        "\n",
        "# Preprocess the data to map 'Total intl calls' to two categories: 0 and greater than 0\n",
        "df['Total intl calls category'] = df['Total intl calls'].apply(lambda x: '0' if x == 0 else 'GreaterThan0')\n",
        "# Select relevant columns for the heatmap\n",
        "heatmap_data = df[['Total intl calls category', 'International plan']]\n",
        "# Create a cross-tabulation (contingency table)\n",
        "cross_tab = pd.crosstab(heatmap_data['Total intl calls category'], heatmap_data['International plan'], margins=True, margins_name=\"\")\n",
        "print(cross_tab)\n",
        "\n",
        "# Select columns for analysis\n",
        "columns_for_analysis = ['Total intl calls', 'International plan']\n",
        "# Summary statistics\n",
        "summary_stats_intl_calls_vs_plan = df.groupby('International plan')['Total intl calls'].describe()\n",
        "print(\"Summary Statistics for International Calls vs. International Plan:\")\n",
        "print(summary_stats_intl_calls_vs_plan)"
      ],
      "metadata": {
        "id": "Ni1PYSAwxrE6"
      },
      "execution_count": null,
      "outputs": []
    },
    {
      "cell_type": "code",
      "source": [
        "# Multivariate analysis on International plan and International Charges\n",
        "\n",
        "# Summary table for average intl charges and international plan\n",
        "intl_charges_summary = df.groupby('International plan')['Total intl charge'].agg(['mean', 'count']).reset_index()\n",
        "intl_charges_summary.columns = ['International Plan', 'Mean Intl Charge', 'Customers']\n",
        "# Display the summary table\n",
        "print(\"International Plan vs Mean Intl Charge Summary:\")\n",
        "print(intl_charges_summary)"
      ],
      "metadata": {
        "id": "V5L_OrIbxq9M"
      },
      "execution_count": null,
      "outputs": []
    },
    {
      "cell_type": "code",
      "source": [
        "# Bivariate analysis on State and Voice mail Plan column\n",
        "\n",
        "# Calculate average international plan per state\n",
        "avg_vmail_plan_per_state = (df.groupby('State')['Voice mail plan'].apply(lambda x: (x == 'Yes').mean())*100).reset_index()\n",
        "avg_vmail_plan_per_state.columns = ['State', '% Voice mail Plan']\n",
        "# Arrange in descending order\n",
        "avg_vmail_plan_per_state = avg_vmail_plan_per_state.sort_values(by='% Voice mail Plan', ascending=False)\n",
        "# Display the results\n",
        "print(\"Average Voice mail Plan per State:\")\n",
        "print(avg_vmail_plan_per_state)"
      ],
      "metadata": {
        "id": "PK0Sz9blxq0U"
      },
      "execution_count": null,
      "outputs": []
    },
    {
      "cell_type": "code",
      "source": [
        "# Bivariate analysis on Voicemail plan and Voice mail messages\n",
        "\n",
        "# Preprocess the data to map 'Total intl calls' to two categories: 0 and greater than 0\n",
        "df['Total vmail messages category'] = df['Number vmail messages'].apply(lambda x: '0' if x == 0 else 'GreaterThan0')\n",
        "# Select relevant columns for the heatmap\n",
        "heatmap_data = df[['Total vmail messages category', 'Voice mail plan']]\n",
        "# Create a cross-tabulation (contingency table)\n",
        "cross_tab_vmail = pd.crosstab(heatmap_data['Total vmail messages category'], heatmap_data['Voice mail plan'], margins=True, margins_name=\"\")\n",
        "print(cross_tab_vmail)\n",
        "# Creating table for analysis\n",
        "voicemail_summary = df.groupby('Voice mail plan')['Number vmail messages'].agg(['mean', 'count']).reset_index()\n",
        "voicemail_summary.columns = ['Voice mail Plan', 'Voice mail Messages', 'Customers']\n",
        "# Display the summary table\n",
        "print(\"Voicemail Plan vs Mean Number of Voicemail Messages Summary:\")\n",
        "print(voicemail_summary)"
      ],
      "metadata": {
        "id": "AbqZtC9gxqnZ"
      },
      "execution_count": null,
      "outputs": []
    },
    {
      "cell_type": "code",
      "source": [
        "# Multivariate analysis between Voicemail Plan, international Plan and Churn\n",
        "\n",
        "# Create a DataFrame for voicemail plan and international plan summary\n",
        "voicemail_intl_summary = df.groupby(['Voice mail plan', 'International plan']).size().reset_index(name='Count')\n",
        "# Create a DataFrame for voicemail plan, international plan, and churn summary\n",
        "voicemail_intl_churn_summary = df.groupby(['Voice mail plan', 'International plan', 'Churn']).size().reset_index(name='Count')\n",
        "# Display the summary table\n",
        "print(\"Voice mail Plan and International Plan Summary:\")\n",
        "print(voicemail_intl_summary)\n",
        "# Display the summary table\n",
        "print(\"Voicemail Plan, International Plan, and Churn Summary:\")\n",
        "print(voicemail_intl_churn_summary)\n",
        "# Pivot the summary table for better visualization\n",
        "heatmap_data = voicemail_intl_summary.pivot(index='Voice mail plan', columns='International plan', values='Count')"
      ],
      "metadata": {
        "id": "InhQioZgvA2P"
      },
      "execution_count": null,
      "outputs": []
    },
    {
      "cell_type": "code",
      "source": [
        "# Bivariate analysis between State and Customer Service call columns\n",
        "\n",
        "# Group by state and calculate the total customer service calls\n",
        "customer_service_calls_summary = df.groupby('State')['Customer service calls'].sum().reset_index()\n",
        "customer_service_calls_summary.columns = ['State', 'Total Customer Service Calls']\n",
        "# Find the state with the most customer service calls\n",
        "state_with_most_calls = customer_service_calls_summary.nlargest(5, 'Total Customer Service Calls')\n",
        "# Display the result\n",
        "print(\"State with the Most Customer Service Calls:\")\n",
        "print(state_with_most_calls)\n",
        "\n",
        "# Group by state and calculate the total customer service calls\n",
        "customer_service_calls_summary = df.groupby('State')['Customer service calls'].mean().reset_index()\n",
        "customer_service_calls_summary.columns = ['State', '% Customer Service Calls']\n",
        "# Find the state with the most customer service calls\n",
        "state_with_most_calls = customer_service_calls_summary.nlargest(5, '% Customer Service Calls')\n",
        "# Display the result\n",
        "print(\"State with the Most Average Customer Service Calls:\")\n",
        "print(state_with_most_calls)"
      ],
      "metadata": {
        "id": "RwkUL1_UvAt1"
      },
      "execution_count": null,
      "outputs": []
    },
    {
      "cell_type": "code",
      "source": [
        "# Bivariate analysis between Customer service calls and Churn\n",
        "\n",
        "df_service_churn = df.copy()\n",
        "# Convert boolean Churn values to strings 'True' and 'False'\n",
        "df_service_churn['Churn'] = df_service_churn['Churn'].astype(str)\n",
        "# Create a summary table for service call versus churn\n",
        "service_churn_summary = df_service_churn.groupby(['Customer service calls', 'Churn']).size().reset_index(name='Count')\n",
        "# Pivot the table for better readability\n",
        "service_churn_pivot = service_churn_summary.pivot(index='Customer service calls', columns='Churn', values='Count').fillna(0)\n",
        "# Add a total column\n",
        "service_churn_pivot['Total'] = service_churn_pivot.sum(axis=1)\n",
        "# Calculate the percentage of churn for each service call level\n",
        "service_churn_pivot['Churn Percentage'] = (service_churn_pivot['True'] / service_churn_pivot['Total']) * 100\n",
        "# Display the summary table\n",
        "print(\"Service Call versus Churn Summary:\")\n",
        "print(service_churn_pivot)"
      ],
      "metadata": {
        "id": "0hIeMpshvAUr"
      },
      "execution_count": null,
      "outputs": []
    },
    {
      "cell_type": "code",
      "source": [
        "# Multivariate analysis between [Minute, Calls, Charge] and [Day, Evening, Night, Inernational] across states.\n",
        "\n",
        "# Filtering ----------------------------\n",
        "# Day\n",
        "# Filter out zero values for day minutes\n",
        "df_filtered_day_minutes = df[df['Total day minutes'] > 0]\n",
        "# Filter out zero values for day calls\n",
        "df_filtered_day_calls = df[df['Total day calls'] > 0]\n",
        "# Filter out zero values for day charges\n",
        "df_filtered_day_charge = df[df['Total day charge'] > 0]\n",
        "\n",
        "# Evening\n",
        "# Filter out zero values for eve minutes\n",
        "df_filtered_eve_minutes = df[df['Total eve minutes'] > 0]\n",
        "# Filter out zero values for eve calls\n",
        "df_filtered_eve_calls = df[df['Total eve calls'] > 0]\n",
        "# Filter out zero values for eve charges\n",
        "df_filtered_eve_charge = df[df['Total eve charge'] > 0]\n",
        "\n",
        "# Night\n",
        "# Filter out zero values for night minutes\n",
        "df_filtered_night_minutes = df[df['Total night minutes'] > 0]\n",
        "# Filter out zero values for night calls\n",
        "df_filtered_night_calls = df[df['Total night calls'] > 0]\n",
        "# Filter out zero values for night charges\n",
        "df_filtered_night_charge = df[df['Total night charge'] > 0]\n",
        "\n",
        "# International\n",
        "# Filter out zero values for intl minutes\n",
        "df_filtered_intl_minutes = df[df['Total intl minutes'] > 0]\n",
        "# Filter out zero values for intl calls\n",
        "df_filtered_intl_calls = df[df['Total intl calls'] > 0]\n",
        "# Filter out zero values for intl charges\n",
        "df_filtered_intl_charge = df[df['Total intl charge'] > 0]\n",
        "\n",
        "\n",
        "\n",
        "\n",
        "# Calculations ----------------------------\n",
        "# Day\n",
        "# Calculate average day minutes for each state\n",
        "average_day_minutes = df_filtered_day_minutes.groupby('State')['Total day minutes'].mean().reset_index()\n",
        "average_day_minutes.columns = ['State', 'Average Day Minutes']\n",
        "# Calculate average day calls for each state\n",
        "average_day_calls = df_filtered_day_calls.groupby('State')['Total day calls'].mean().reset_index()\n",
        "average_day_calls.columns = ['State', 'Average Day Calls']\n",
        "# Calculate average day charge for each state\n",
        "average_day_charge = df_filtered_day_charge.groupby('State')['Total day charge'].mean().reset_index()\n",
        "average_day_charge.columns = ['State', 'Average Day Charge']\n",
        "\n",
        "# Evening\n",
        "# Calculate average eve minutes for each state\n",
        "average_eve_minutes = df_filtered_eve_minutes.groupby('State')['Total eve minutes'].mean().reset_index()\n",
        "average_eve_minutes.columns = ['State', 'Average eve Minutes']\n",
        "# Calculate average eve calls for each state\n",
        "average_eve_calls = df_filtered_eve_calls.groupby('State')['Total eve calls'].mean().reset_index()\n",
        "average_eve_calls.columns = ['State', 'Average eve Calls']\n",
        "# Calculate average eve charge for each state\n",
        "average_eve_charge = df_filtered_eve_charge.groupby('State')['Total eve charge'].mean().reset_index()\n",
        "average_eve_charge.columns = ['State', 'Average eve Charge']\n",
        "\n",
        "# Night\n",
        "# Calculate average night minutes for each state\n",
        "average_night_minutes = df_filtered_night_minutes.groupby('State')['Total night minutes'].mean().reset_index()\n",
        "average_night_minutes.columns = ['State', 'Average night Minutes']\n",
        "# Calculate average night calls for each state\n",
        "average_night_calls = df_filtered_night_calls.groupby('State')['Total night calls'].mean().reset_index()\n",
        "average_night_calls.columns = ['State', 'Average night Calls']\n",
        "# Calculate average night charge for each state\n",
        "average_night_charge = df_filtered_night_charge.groupby('State')['Total night charge'].mean().reset_index()\n",
        "average_night_charge.columns = ['State', 'Average night Charge']\n",
        "\n",
        "# International\n",
        "# Calculate average intl minutes for each state\n",
        "average_intl_minutes = df_filtered_intl_minutes.groupby('State')['Total intl minutes'].mean().reset_index()\n",
        "average_intl_minutes.columns = ['State', 'Average intl Minutes']\n",
        "# Calculate average intl calls for each state\n",
        "average_intl_calls = df_filtered_intl_calls.groupby('State')['Total intl calls'].mean().reset_index()\n",
        "average_intl_calls.columns = ['State', 'Average intl Calls']\n",
        "# Calculate average intl charge for each state\n",
        "average_intl_charge = df_filtered_intl_charge.groupby('State')['Total intl charge'].mean().reset_index()\n",
        "average_intl_charge.columns = ['State', 'Average intl Charge']\n",
        "\n",
        "\n",
        "\n",
        "\n",
        "# Finding Top and Bottom 5 ----------------------------\n",
        "# Day\n",
        "# Find the top 5 and bottom 5 states based on average day minutes\n",
        "top_5_states_day_minutes = average_day_minutes.nlargest(5, 'Average Day Minutes')\n",
        "bottom_5_states_day_minutes = average_day_minutes.nsmallest(5, 'Average Day Minutes')\n",
        "# Find the top 5 and bottom 5 states based on average day calls\n",
        "top_5_states_day_calls = average_day_calls.nlargest(5, 'Average Day Calls')\n",
        "bottom_5_states_day_calls = average_day_calls.nsmallest(5, 'Average Day Calls')\n",
        "# Find the top 5 and bottom 5 states based on average day charge\n",
        "top_5_states_day_charge = average_day_charge.nlargest(5, 'Average Day Charge')\n",
        "bottom_5_states_day_charge = average_day_charge.nsmallest(5, 'Average Day Charge')\n",
        "\n",
        "# Evening\n",
        "# Find the top 5 and bottom 5 states based on average eve minutes\n",
        "top_5_states_eve_minutes = average_eve_minutes.nlargest(5, 'Average eve Minutes')\n",
        "bottom_5_states_eve_minutes = average_eve_minutes.nsmallest(5, 'Average eve Minutes')\n",
        "# Find the top 5 and bottom 5 states based on average eve calls\n",
        "top_5_states_eve_calls = average_eve_calls.nlargest(5, 'Average eve Calls')\n",
        "bottom_5_states_eve_calls = average_eve_calls.nsmallest(5, 'Average eve Calls')\n",
        "# Find the top 5 and bottom 5 states based on average eve charge\n",
        "top_5_states_eve_charge = average_eve_charge.nlargest(5, 'Average eve Charge')\n",
        "bottom_5_states_eve_charge = average_eve_charge.nsmallest(5, 'Average eve Charge')\n",
        "\n",
        "# Night\n",
        "# Find the top 5 and bottom 5 states based on average night minutes\n",
        "top_5_states_night_minutes = average_night_minutes.nlargest(5, 'Average night Minutes')\n",
        "bottom_5_states_night_minutes = average_night_minutes.nsmallest(5, 'Average night Minutes')\n",
        "# Find the top 5 and bottom 5 states based on average night calls\n",
        "top_5_states_night_calls = average_night_calls.nlargest(5, 'Average night Calls')\n",
        "bottom_5_states_night_calls = average_night_calls.nsmallest(5, 'Average night Calls')\n",
        "# Find the top 5 and bottom 5 states based on average night charge\n",
        "top_5_states_night_charge = average_night_charge.nlargest(5, 'Average night Charge')\n",
        "bottom_5_states_night_charge = average_night_charge.nsmallest(5, 'Average night Charge')\n",
        "\n",
        "# International\n",
        "# Find the top 5 and bottom 5 states based on average intl minutes\n",
        "top_5_states_intl_minutes = average_intl_minutes.nlargest(5, 'Average intl Minutes')\n",
        "bottom_5_states_intl_minutes = average_intl_minutes.nsmallest(5, 'Average intl Minutes')\n",
        "# Find the top 5 and bottom 5 states based on average intl calls\n",
        "top_5_states_intl_calls = average_intl_calls.nlargest(5, 'Average intl Calls')\n",
        "bottom_5_states_intl_calls = average_intl_calls.nsmallest(5, 'Average intl Calls')\n",
        "# Find the top 5 and bottom 5 states based on average intl charge\n",
        "top_5_states_intl_charge = average_intl_charge.nlargest(5, 'Average intl Charge')\n",
        "bottom_5_states_intl_charge = average_intl_charge.nsmallest(5, 'Average intl Charge')\n",
        "\n",
        "\n",
        "\n",
        "# Display the results ----------------------------\n",
        "# Top Minutes\n",
        "# Day\n",
        "print(\"Top 5 States based on Average Day Minutes:\")\n",
        "print(top_5_states_day_minutes)\n",
        "# Evening\n",
        "print(\"Top 5 States based on Average Eve Minutes:\")\n",
        "print(top_5_states_eve_minutes)\n",
        "# Night\n",
        "print(\"Top 5 States based on Average Night Minutes:\")\n",
        "print(top_5_states_night_minutes)\n",
        "# International\n",
        "print(\"Top 5 States based on Average Intl Minutes:\")\n",
        "print(top_5_states_intl_minutes)\n",
        "\n",
        "# Bottom Minutes\n",
        "# Day\n",
        "print(\"\\nBottom 5 States based on Average Day Minutes:\")\n",
        "print(bottom_5_states_day_minutes)\n",
        "# Evening\n",
        "print(\"\\nBottom 5 States based on Average Eve Minutes:\")\n",
        "print(bottom_5_states_eve_minutes)\n",
        "# Night\n",
        "print(\"\\nBottom 5 States based on Average Night Minutes:\")\n",
        "print(bottom_5_states_night_minutes)\n",
        "# International\n",
        "print(\"\\nBottom 5 States based on Average Intl Minutes:\")\n",
        "print(bottom_5_states_intl_minutes)\n",
        "\n",
        "\n",
        "\n",
        "# Calls\n",
        "# Day\n",
        "print(\"Top 5 States based on Average Day Calls:\")\n",
        "print(top_5_states_day_calls)\n",
        "# Evening\n",
        "print(\"Top 5 States based on Average Evening Calls:\")\n",
        "print(top_5_states_eve_calls)\n",
        "# Night\n",
        "print(\"Top 5 States based on Average Night Calls:\")\n",
        "print(top_5_states_night_calls)\n",
        "# International\n",
        "print(\"Top 5 States based on Average Intl Calls:\")\n",
        "print(top_5_states_intl_calls)\n",
        "\n",
        "\n",
        "# Calls\n",
        "# Day\n",
        "print(\"\\nBottom 5 States based on Average Day Calls:\")\n",
        "print(bottom_5_states_day_calls)\n",
        "# Evening\n",
        "print(\"\\nBottom 5 States based on Average Evening Calls:\")\n",
        "print(bottom_5_states_eve_calls)\n",
        "# Night\n",
        "print(\"\\nBottom 5 States based on Average Night Calls:\")\n",
        "print(bottom_5_states_night_calls)\n",
        "# International\n",
        "print(\"\\nBottom 5 States based on Average Intl Calls:\")\n",
        "print(bottom_5_states_intl_calls)\n",
        "\n",
        "\n",
        "# Charge\n",
        "# Day\n",
        "print(\"Top 5 States based on Average Day Charge:\")\n",
        "print(top_5_states_day_charge)\n",
        "# Evening\n",
        "print(\"Top 5 States based on Average Evening Charges:\")\n",
        "print(top_5_states_eve_charge)\n",
        "# Night\n",
        "print(\"Top 5 States based on Average Night Charge:\")\n",
        "print(top_5_states_night_charge)\n",
        "# International\n",
        "print(\"Top 5 States based on Average Intl Charge:\")\n",
        "print(top_5_states_intl_charge)\n",
        "\n",
        "# Charge\n",
        "# Day\n",
        "print(\"\\nBottom 5 States based on Average Day Charge:\")\n",
        "print(bottom_5_states_day_charge)\n",
        "# Evening\n",
        "print(\"\\nBottom 5 States based on Average Evening Charges:\")\n",
        "print(bottom_5_states_eve_charge)\n",
        "# Night\n",
        "print(\"\\nBottom 5 States based on Average Night Charge:\")\n",
        "print(bottom_5_states_night_charge)\n",
        "# International\n",
        "print(\"\\nBottom 5 States based on Average Intl Charge:\")\n",
        "print(bottom_5_states_intl_charge)"
      ],
      "metadata": {
        "id": "-wO39MBhaZJO"
      },
      "execution_count": null,
      "outputs": []
    },
    {
      "cell_type": "code",
      "source": [
        "# Analysis continuation filtering out States\n",
        "print(\"States at the Top\")\n",
        "for state, count in pd.concat([top_5_states_day_minutes['State'],\n",
        "                               top_5_states_eve_minutes['State'],\n",
        "                               top_5_states_night_minutes['State'],\n",
        "                               top_5_states_intl_minutes['State'],\n",
        "                               top_5_states_day_calls['State'],\n",
        "                               top_5_states_eve_calls['State'],\n",
        "                               top_5_states_night_calls['State'],\n",
        "                               top_5_states_intl_calls['State'],\n",
        "                               top_5_states_day_charge['State'],\n",
        "                               top_5_states_eve_charge['State'],\n",
        "                               top_5_states_night_charge['State'],\n",
        "                               top_5_states_intl_charge['State']\n",
        "                                ]).value_counts().items():\n",
        "    print(f\"{state}: {count}\")\n",
        "print(\"States at the Bottom\")\n",
        "for state, count in pd.concat([bottom_5_states_day_minutes['State'],\n",
        "                               bottom_5_states_eve_minutes['State'],\n",
        "                               bottom_5_states_night_minutes['State'],\n",
        "                               bottom_5_states_intl_minutes['State'],\n",
        "                               bottom_5_states_day_calls['State'],\n",
        "                               bottom_5_states_eve_calls['State'],\n",
        "                               bottom_5_states_night_calls['State'],\n",
        "                               bottom_5_states_intl_calls['State'],\n",
        "                               bottom_5_states_day_charge['State'],\n",
        "                               bottom_5_states_eve_charge['State'],\n",
        "                               bottom_5_states_night_charge['State'],\n",
        "                               bottom_5_states_intl_charge['State']\n",
        "                                ]).value_counts().items():\n",
        "    print(f\"{state}: {count}\")"
      ],
      "metadata": {
        "id": "fj6w7y1kaZCG"
      },
      "execution_count": null,
      "outputs": []
    },
    {
      "cell_type": "code",
      "source": [
        "# Multivariate analysis on Total charges to States\n",
        "\n",
        "# Calculate the total charges for day, evening, night, and international calls for each state\n",
        "df['Total Charges'] = df['Total day charge'] + df['Total eve charge'] + df['Total night charge'] + df['Total intl charge']\n",
        "state_total_charges = df.groupby('State')['Total Charges'].sum().reset_index(name='Total Charges')\n",
        "# Sort the DataFrame by 'Total Charges' in descending order\n",
        "state_total_charges_sorted = state_total_charges.sort_values(by='Total Charges', ascending=False)\n",
        "# Get the top 5 and bottom 5 states based on total charges\n",
        "top5_states_charges = state_total_charges_sorted.head(5)\n",
        "bottom5_states_charges = state_total_charges_sorted.tail(5)\n",
        "# Calculate the total, average, and percentage of total charges for each state\n",
        "state_summary_table = df.groupby('State')['Total Charges'].agg(['sum', 'mean']).reset_index()\n",
        "# Rename columns for clarity\n",
        "state_summary_table.columns = ['State', 'Total Charges', 'Average Charges']\n",
        "# Pick the top 5 and bottom 5 states based on total charges\n",
        "top5_states_summary = state_summary_table.nlargest(5, 'Total Charges')\n",
        "bottom5_states_summary = state_summary_table.nsmallest(5, 'Total Charges')\n",
        "# Display the top 5 and bottom 5 states based on total charges\n",
        "print(\"Top 5 States Based on Total Charges:\")\n",
        "print(top5_states_summary)\n",
        "print(\"\\nBottom 5 States Based on Total Charges:\")\n",
        "print(bottom5_states_summary)"
      ],
      "metadata": {
        "id": "8NDin7ZCaY6q"
      },
      "execution_count": null,
      "outputs": []
    },
    {
      "cell_type": "code",
      "source": [
        "# Multivariate analysis on Charge and Churn columns\n",
        "\n",
        "# Calculate mean day charge for each churn group\n",
        "mean_day_charge_churn = df.groupby('Churn')['Total day charge'].mean().reset_index()\n",
        "# Calculate mean eve charge for each churn group\n",
        "mean_eve_charge_churn = df.groupby('Churn')['Total eve charge'].mean().reset_index()\n",
        "# Calculate mean night charge for each churn group\n",
        "mean_night_charge_churn = df.groupby('Churn')['Total night charge'].mean().reset_index()\n",
        "# Calculate mean intl charge for each churn group\n",
        "mean_intl_charge_churn = df.groupby('Churn')['Total intl charge'].mean().reset_index()\n",
        "# Summary Table\n",
        "print(mean_day_charge_churn)\n",
        "print(mean_eve_charge_churn)\n",
        "print(mean_night_charge_churn)\n",
        "print(mean_intl_charge_churn)"
      ],
      "metadata": {
        "id": "xdYJefFljkZ2"
      },
      "execution_count": null,
      "outputs": []
    },
    {
      "cell_type": "markdown",
      "source": [
        "### What all manipulations have you done and insights you found?"
      ],
      "metadata": {
        "id": "MSa1f5Uengrz"
      }
    },
    {
      "cell_type": "markdown",
      "source": [
        "Answer Here.\n",
        "### From Univariate ananlysis\n",
        "* Form the State column it is clear that WV (West Virginia) has the highest number of customers and CA (California) have the least number of customers out of total 51 States.\n",
        "* From Account Length column it is observed that the minimum tenure is of 1 day and highest no of customers range between 101-150 days which is around 1339 Customers.\n",
        "* From Area Code column it is clear that Area 415 has the highest number of customers that is 1655.\n",
        "* From international Plan column it is observed that very few people have international plan as compared to people not having international plan.\n",
        "* From Voicemail Plan column it is clear that significant number of people have voicemail plan that is around 922.\n",
        "* From Voicemail messages it is clear that any customers having voicemail plan can use this service which is not in the case of international plan, moreover minimum used messages is around 4 and mean is arround 30.\n",
        "* From Customer Service calls column customers with 1 call (1811) are the most and customer with calls 8 and 9 are the least (2 each).\n",
        "* From churn column it is significant that a good no of customers have churned.\n",
        "###From Bivariate and Multivariate analysis\n",
        "* Most churned customers are from NJ and least from HI\n",
        "* From Account Length and Churn, Most of the Customers have churned having long association From account length of 201-250.\n",
        "* Churning is nearly equal in different Area Codes\n",
        "* FL,OK,LA,KS,ND have customers which are most associated and IA,TN,MT,MA,KY have customers which are least associated.\n",
        "* IL,DE,NC,RI,AR having most customers with International plan and IN,SC,MT,LA,IA have least customers with International Plan.\n",
        "* IA is the state having 44 customers out of which no Customer have opted for International Plan.\n",
        "* Customers made most international calls having no international plan from customers having international plan.\n",
        "* Charges for international calls are almost same for custoomers having international plan or not.\n",
        "* ID,MT,GA,SO,OH have most customers with voicemail plan and VT,OR,NY,NV,WA have least customers with voicemail plan.\n",
        "* Churn seems to happen even with customers having both the plans.\n",
        "* WV,NY,OR,MN,VT are states having most service calls whereas AR,GA,CO,OK,ME are on top on basis of service call percentage.\n",
        "* Customers with service calls of 9 calls have 100% churned but the count is only 2.\n",
        "* VA,IN,KS,TN,MD are most frequent states on basis of  day, evening, night and international - minutes, calls and charges whereas AK,CO,IA,DC,WA are amongst least frequent ones.\n",
        "* Charges observed to be nearly same in all the states.\n",
        "* Total Day charges for Churned customers is 35.17 which is highest among the timeperiod and least is with international charges.\n",
        "* Difference in Day charges with respect to Churn is around Rs. 6 which is huge."
      ],
      "metadata": {
        "id": "LbyXE7I1olp8"
      }
    },
    {
      "cell_type": "markdown",
      "source": [
        "## ***4. Data Vizualization, Storytelling & Experimenting with charts : Understand the relationships between variables***"
      ],
      "metadata": {
        "id": "GF8Ens_Soomf"
      }
    },
    {
      "cell_type": "markdown",
      "source": [
        "#### Chart - 1"
      ],
      "metadata": {
        "id": "0wOQAZs5pc--"
      }
    },
    {
      "cell_type": "code",
      "source": [
        "# Chart - 1 visualization code\n",
        "\n",
        "# Bar plot for state distribution with count and percentage\n",
        "plt.figure(figsize=(15, 6))\n",
        "ax = sns.barplot(x=state_counts.index, y=state_counts.values, color='lightgreen', edgecolor=\"black\")\n",
        "plt.title('NUMBER OF CUSTOMERS PER STATE')\n",
        "plt.xlabel('State')\n",
        "plt.ylabel('Number of Customers')\n",
        "# Add count and percentage side by side with rotation and increased spacing\n",
        "for i, p in enumerate(ax.patches):\n",
        "    height = p.get_height()\n",
        "    width = p.get_width()\n",
        "    ax.text(p.get_x() + width / 1.5, height / 2,\n",
        "            f'{height}  ({state_percentages.iloc[i]:.2f}%)', ha='center', va='center', rotation=90, fontsize=10)\n",
        "plt.xticks(rotation=90, ha='center')\n",
        "plt.gca().spines[['top', 'right']].set_visible(False)\n",
        "plt.show()"
      ],
      "metadata": {
        "id": "7v_ESjsspbW7"
      },
      "execution_count": null,
      "outputs": []
    },
    {
      "cell_type": "markdown",
      "source": [
        "##### 1. Why did you pick the specific chart?"
      ],
      "metadata": {
        "id": "K5QZ13OEpz2H"
      }
    },
    {
      "cell_type": "markdown",
      "source": [
        "Answer Here.\n",
        "\n",
        "The choice of a bar chart for the distribution of states is driven by its suitability for displaying categorical data. Bar charts provide a clear and straightforward representation of counts, aiding quick insights into state occurrences."
      ],
      "metadata": {
        "id": "XESiWehPqBRc"
      }
    },
    {
      "cell_type": "markdown",
      "source": [
        "##### 2. What is/are the insight(s) found from the chart?"
      ],
      "metadata": {
        "id": "lQ7QKXXCp7Bj"
      }
    },
    {
      "cell_type": "markdown",
      "source": [
        "Answer Here\n",
        "\n",
        "* **West Virginia (WV):**\n",
        " - Boasts the highest telecom user count with 106 users.\n",
        " - Indicates a strong market presence and potential customer loyalty.\n",
        "* **California (CA):**\n",
        " - Holds the lowest user count at 34.\n",
        " - Despite being populous, the lower count suggests room for growth or targeted retention efforts.\n",
        "* **Regional Disparities:**\n",
        " - Varying user counts across states highlight regional differences in telecom service adoption.\n",
        " - Identifying these patterns aids in tailoring marketing strategies based on regional preferences and behaviors.\n",
        "* **Opportunities for Growth:**\n",
        " - States with lower user counts, such as CA and Pennsylvania (PA), present opportunities for business expansion.\n",
        " - Targeted initiatives in these regions can help increase market share and customer engagement.\n",
        "* **Strategic Insights:**\n",
        " - Understanding state-specific user patterns informs strategic decision-making.\n",
        " - Tailoring marketing and retention efforts based on regional disparities can optimize customer engagement and satisfaction."
      ],
      "metadata": {
        "id": "C_j1G7yiqdRP"
      }
    },
    {
      "cell_type": "markdown",
      "source": [
        "##### 3. Will the gained insights help creating a positive business impact?\n",
        "Are there any insights that lead to negative growth? Justify with specific reason."
      ],
      "metadata": {
        "id": "448CDAPjqfQr"
      }
    },
    {
      "cell_type": "markdown",
      "source": [
        "Answer Here\n",
        "\n",
        "* **Targeted Marketing Strategies:**\n",
        " - Understanding state-specific user patterns allows for the development of targeted marketing strategies.\n",
        " - Tailoring promotions and advertising to the preferences and behaviors of users in each state can enhance the effectiveness of marketing campaigns.\n",
        "* **Customer Retention Efforts:**\n",
        " - Identifying regional disparities in user counts provides insights into areas where customer retention efforts may be optimized.\n",
        " - Implementing targeted retention initiatives, especially in states with lower user counts, can positively impact customer satisfaction and loyalty.\n",
        "* **Market Expansion Opportunities:**\n",
        " - States with lower user counts, such as California and Pennsylvania, represent opportunities for market expansion.\n",
        " - The telecom company can strategically allocate resources to increase market share in these regions, driving overall business growth.\n",
        "* **Optimizing Service Offerings:**\n",
        " - Regional variations in user behavior may inform decisions about service offerings.\n",
        " - Customizing service plans or introducing features based on regional preferences can enhance the value proposition for customers.\n",
        "* **Competitive Advantage:**\n",
        " - Leveraging insights from the user distribution analysis allows the company to stay ahead of competitors.\n",
        " - Tailoring business strategies to specific regional needs can provide a competitive advantage in the telecom industry.\n",
        "* **Data-Driven Decision-Making:**\n",
        " - Utilizing data-driven insights demonstrates a commitment to informed decision-making.\n",
        " - The company can align its business strategies with customer preferences, leading to improved customer satisfaction and overall business success.\n",
        "\n",
        " The telecom user count analysis reveals potential growth opportunities but lacks explicit negative growth indicators. While the current insights emphasize regional disparities and opportunities for targeted strategies, potential challenges like high churn rates, competitive dynamics, economic downturns, regulatory changes, and customer satisfaction issues require further exploration. A comprehensive assessment incorporating these factors is essential to fully understand the business landscape and anticipate any negative growth implications. The current analysis remains optimistic, providing a foundation for strategic improvements and market expansion, but a more holistic evaluation is necessary to address potential risks and ensure sustained positive growth in the dynamic telecom industry."
      ],
      "metadata": {
        "id": "3cspy4FjqxJW"
      }
    },
    {
      "cell_type": "markdown",
      "source": [
        "#### Chart - 2"
      ],
      "metadata": {
        "id": "KSlN3yHqYklG"
      }
    },
    {
      "cell_type": "code",
      "source": [
        "# Chart - 2 visualization code\n",
        "\n",
        "plt.figure(figsize=(15, 5))\n",
        "# Histogram for Account length column\n",
        "plt.subplot(1, 2, 1)\n",
        "sns.histplot(df[column_for_univariate_Account_length_analysis], bins=20, kde=True, color='skyblue', edgecolor='black')\n",
        "plt.title(\"HISTOGRAM FOR ACCOUNT LENGTH\")\n",
        "plt.xlabel(column_for_univariate_Account_length_analysis)\n",
        "plt.ylabel('Frequency')\n",
        "# Box plot for Account length column\n",
        "plt.subplot(1, 2, 2)\n",
        "sns.boxplot(x=df[column_for_univariate_Account_length_analysis], color='lightcoral')\n",
        "plt.title(\"BOX PLOT FOR ACCOUNT LENGTH\")\n",
        "plt.xlabel(column_for_univariate_Account_length_analysis)\n",
        "# Main title\n",
        "plt.suptitle(\"UNIVARIATE ANALYSIS FOR ACCOUNT LENGTH\", fontsize=16)\n",
        "plt.tight_layout()\n",
        "plt.show()\n",
        "\n",
        "plt.figure(figsize=(15, 5))\n",
        "# Histogram for Voice mail messages column\n",
        "plt.subplot(1, 2, 1)\n",
        "sns.histplot(non_zero_values, bins=20, kde=True, color='skyblue', edgecolor='black')\n",
        "plt.title(\"HISTOGRAM FOR VOICE MAIL MESSAGES\")\n",
        "plt.xlabel(column_for_univariate_Number_vmail_messages_analysis)\n",
        "plt.ylabel('Frequency')\n",
        "# Box plot for Voice mail messages column\n",
        "plt.subplot(1, 2, 2)\n",
        "sns.boxplot(x=non_zero_values, color='lightcoral')\n",
        "plt.title(\"BOX PLOT FOR VOICE MAIL MESSAGES\")\n",
        "plt.xlabel(column_for_univariate_Number_vmail_messages_analysis)\n",
        "# Main Title\n",
        "plt.suptitle(\"UNIVARIATE ANALYSIS FOR VOICE MAIL MESSAGES\", fontsize=16)\n",
        "plt.tight_layout()\n",
        "plt.show()"
      ],
      "metadata": {
        "id": "R4YgtaqtYklH"
      },
      "execution_count": null,
      "outputs": []
    },
    {
      "cell_type": "markdown",
      "source": [
        "##### 1. Why did you pick the specific chart?"
      ],
      "metadata": {
        "id": "t6dVpIINYklI"
      }
    },
    {
      "cell_type": "markdown",
      "source": [
        "Answer Here.\n",
        "\n",
        "\n",
        "Histograms were chosen to visualize the distribution of \"Account Length\" and \"Voice Mail Messages\" due to their effectiveness in displaying frequency distributions. Boxplots were selected to summarize key statistics and identify outliers, offering a concise overview of the data's variability and central tendency in a single plot.\n"
      ],
      "metadata": {
        "id": "5aaW0BYyYklI"
      }
    },
    {
      "cell_type": "markdown",
      "source": [
        "##### 2. What is/are the insight(s) found from the chart?"
      ],
      "metadata": {
        "id": "ijmpgYnKYklI"
      }
    },
    {
      "cell_type": "markdown",
      "source": [
        "Answer Here\n",
        "\n",
        "\n",
        "The histogram for \"Account Length\" suggests a relatively normal distribution with a slight right skew, indicating a diverse range of account durations. The box plot complements this by revealing the presence of a few outliers on the higher end. For \"Voice Mail Messages,\" the histogram indicates a predominantly zero value distribution, while the box plot highlights the variability among non-zero values, possibly suggesting distinct user preferences or usage patterns.\n"
      ],
      "metadata": {
        "id": "PSx9atu2YklI"
      }
    },
    {
      "cell_type": "markdown",
      "source": [
        "##### 3. Will the gained insights help creating a positive business impact?\n",
        "Are there any insights that lead to negative growth? Justify with specific reason."
      ],
      "metadata": {
        "id": "-JiQyfWJYklI"
      }
    },
    {
      "cell_type": "markdown",
      "source": [
        "Answer Here\n",
        "\n",
        "The insights gained from the analysis of \"Account Length\" and \"Voice Mail Messages\" may have limited direct impact on immediate business decisions. While understanding the distribution and variability of these features is valuable for understanding customer behavior, it may not directly lead to actionable strategies for positive business impact. However, identifying outliers in account length could potentially signal areas for further investigation, such as understanding why some customers have unusually long account durations and whether this correlates with higher or lower satisfaction and retention rates.\n",
        "\n",
        "The presence of a significant number of zero values in the \"Voice Mail Messages\" feature indicates that a considerable portion of customers do not use this service. While this may not necessarily lead to negative growth, it highlights a potential opportunity for the business to optimize its offerings or marketing strategies related to voice mail services. If the service is underutilized due to lack of awareness or perceived value, addressing these issues could lead to increased customer engagement and potentially positive growth."
      ],
      "metadata": {
        "id": "BcBbebzrYklV"
      }
    },
    {
      "cell_type": "markdown",
      "source": [
        "#### Chart - 3"
      ],
      "metadata": {
        "id": "EM7whBJCYoAo"
      }
    },
    {
      "cell_type": "code",
      "source": [
        "# Chart - 3 visualization code\n",
        "\n",
        "# Bar plot for the categorized column\n",
        "plt.figure(figsize=(8, 4))\n",
        "# Create a bar plot\n",
        "ax = sns.barplot(x=summary_stats_category.index, y=summary_stats_category.values, palette='viridis')\n",
        "# Add count and percentage values on top of each bar\n",
        "for p in ax.patches:\n",
        "    count = p.get_height()\n",
        "    percentage = (count / len(df)) * 100\n",
        "    ax.annotate(f'{int(count)}\\n({percentage:.1f}%)',\n",
        "                (p.get_x() + p.get_width() / 2., p.get_height()),\n",
        "                ha='center', va='center', xytext=(1, 15), textcoords='offset points', fontsize=10)\n",
        "# Add labels and title\n",
        "plt.title('CATEGORIZATION OF ACCOUNT LENGTH')\n",
        "plt.xlabel('Account Length Category')\n",
        "plt.ylabel('Customers')\n",
        "# Increase the vertical range by setting y-axis limits\n",
        "plt.ylim(0, max(ax.patches, key=lambda x: x.get_height()).get_height() + 300)\n",
        "# Show the plot\n",
        "plt.show()"
      ],
      "metadata": {
        "id": "t6GMdE67YoAp"
      },
      "execution_count": null,
      "outputs": []
    },
    {
      "cell_type": "markdown",
      "source": [
        "##### 1. Why did you pick the specific chart?"
      ],
      "metadata": {
        "id": "fge-S5ZAYoAp"
      }
    },
    {
      "cell_type": "markdown",
      "source": [
        "Answer Here.\n",
        "\n",
        "A barplot was chosen to visualize 'Account length' distribution as it provides a clear overview of data spread, groups values into intervals, and illustrates frequency patterns. Its simplicity and effectiveness make it suitable for interpreting and communicating the distributional characteristics of the telecom dataset's continuous variable."
      ],
      "metadata": {
        "id": "5dBItgRVYoAp"
      }
    },
    {
      "cell_type": "markdown",
      "source": [
        "##### 2. What is/are the insight(s) found from the chart?"
      ],
      "metadata": {
        "id": "85gYPyotYoAp"
      }
    },
    {
      "cell_type": "markdown",
      "source": [
        "Answer Here\n",
        "* **Concentration in Mid-range:** The majority of users have account lengths in the range of 101 to 150, with the highest count in the 100-149 range (1339 users).\n",
        "* **Moderate Distribution in Lower Range:** There is a substantial number of users with account lengths in the lower range (0-49), indicating a group with relatively shorter account durations (326 users).\n",
        "* **Sparse Distribution in Higher Range:** Account lengths beyond 150 days are less common, with a notable decrease in user counts for ranges 150-199 and 200-249 (340 and 27 users, respectively).\n",
        "* **Potential Segmentation:** The distinct user count patterns across ranges suggest potential segmentation opportunities for targeted strategies based on account length.\n",
        "* **Consideration for Marketing Strategies:** Understanding the distribution allows for tailored marketing and retention efforts, acknowledging the different needs and behaviors associated with varying account lengths."
      ],
      "metadata": {
        "id": "4jstXR6OYoAp"
      }
    },
    {
      "cell_type": "markdown",
      "source": [
        "##### 3. Will the gained insights help creating a positive business impact?\n",
        "Are there any insights that lead to negative growth? Justify with specific reason."
      ],
      "metadata": {
        "id": "RoGjAbkUYoAp"
      }
    },
    {
      "cell_type": "markdown",
      "source": [
        "Answer Here\n",
        "* **Positive Business Impact:**\n",
        " - **Tailored Strategies:** Understanding the distribution of account lengths allows for the development of tailored marketing and retention strategies. Differentiated approaches for users with shorter versus longer account lengths can enhance customer engagement.\n",
        " - **Retention Focus:** Recognizing the concentration of users in the mid-range (50-149) provides an opportunity to focus on retaining this substantial customer segment through targeted initiatives and improved services.\n",
        " - **Segmentation Opportunities:** The identified account length segments (e.g., shorter vs. longer) offer opportunities for segmentation, enabling personalized offerings and better addressing the diverse needs of customers.\n",
        "* **Potential Challenges:**\n",
        " - **Churn Risk in Longer Accounts:** The sparse distribution in higher account length ranges (150-249) may indicate potential challenges in retaining customers with longer account durations. There might be factors leading to churn in this group that need further investigation.\n",
        " - **Market Saturation in Mid-range:** The concentration of users in the mid-range may suggest market saturation or intense competition. To maintain positive growth, strategies for customer acquisition and differentiation are essential.\n",
        " - **Overlooking Short-term Customers:** Focusing too much on the mid-range and longer-term customers might lead to overlooking the needs of users with shorter account lengths. Balancing strategies for both short and long-term customer satisfaction is crucial."
      ],
      "metadata": {
        "id": "zfJ8IqMcYoAp"
      }
    },
    {
      "cell_type": "markdown",
      "source": [
        "#### Chart - 4"
      ],
      "metadata": {
        "id": "4Of9eVA-YrdM"
      }
    },
    {
      "cell_type": "code",
      "source": [
        "# Chart - 4 visualization code\n",
        "\n",
        "# Bar plot for Area code column\n",
        "plt.figure(figsize=(8, 4))\n",
        "# Calculate percentage values\n",
        "total_users = len(df)\n",
        "percentage_values = (df['Area code'].value_counts().sort_index() / total_users) * 100\n",
        "# Create a bar plot\n",
        "ax = df['Area code'].value_counts().sort_index().plot(kind='bar', color='skyblue', edgecolor='black')\n",
        "# Add frequency and percentage values inside each bar\n",
        "for p, percentage in zip(ax.patches, percentage_values):\n",
        "    ax.annotate(f\"{int(p.get_height())}\\n({percentage:.1f}%)\",\n",
        "                (p.get_x() + p.get_width() / 2., p.get_height() / 2),\n",
        "                ha='center', va='center', fontsize=10, color='black')\n",
        "# Customize the plot\n",
        "plt.title('NO OF CUSTOMERS PER AREA CODE')\n",
        "plt.xlabel('Area Code')\n",
        "plt.ylabel('Customers')\n",
        "plt.grid(axis='y', alpha=0.75)\n",
        "plt.show()"
      ],
      "metadata": {
        "id": "irlUoxc8YrdO"
      },
      "execution_count": null,
      "outputs": []
    },
    {
      "cell_type": "markdown",
      "source": [
        "##### 1. Why did you pick the specific chart?"
      ],
      "metadata": {
        "id": "iky9q4vBYrdO"
      }
    },
    {
      "cell_type": "markdown",
      "source": [
        "Answer Here.\n",
        "\n",
        "A bar plot was selected to showcase the distribution of 'Area codes' due to its effectiveness in visualizing categorical data frequencies. This straightforward and customizable chart allows easy comparisons, making it ideal for highlighting the prevalence of different area codes in the dataset."
      ],
      "metadata": {
        "id": "aJRCwT6DYrdO"
      }
    },
    {
      "cell_type": "markdown",
      "source": [
        "##### 2. What is/are the insight(s) found from the chart?"
      ],
      "metadata": {
        "id": "F6T5p64dYrdO"
      }
    },
    {
      "cell_type": "markdown",
      "source": [
        "Answer Here\n",
        "* **Dominant Area 415:** Area code 415 has the highest frequency, indicating a dominant presence with 1655 users.\n",
        "* **Significant Presence in Area 510:** Area code 510 follows closely with a substantial user count of 840.\n",
        "* **Comparable Frequency in Area 408:** Area code 408 shows a similar user count, suggesting a relatively balanced distribution with 838 users."
      ],
      "metadata": {
        "id": "Xx8WAJvtYrdO"
      }
    },
    {
      "cell_type": "markdown",
      "source": [
        "##### 3. Will the gained insights help creating a positive business impact?\n",
        "Are there any insights that lead to negative growth? Justify with specific reason."
      ],
      "metadata": {
        "id": "y-Ehk30pYrdP"
      }
    },
    {
      "cell_type": "markdown",
      "source": [
        "Answer Here\n",
        "* **Positive Business Impact:**\n",
        " - **Targeted Strategies:** Insights into dominant area codes (415) and significant ones (510, 408) allow for more targeted marketing and service strategies, potentially enhancing customer engagement and satisfaction.\n",
        " - **Efficient Resource Allocation:** Understanding the distribution aids in efficient resource allocation, focusing efforts on areas with higher user concentrations.\n",
        "* **Potential Negative Impact:**\n",
        " - **Risk of Neglect:** While focusing on dominant and significant areas, there's a risk of neglecting smaller areas. Neglecting certain segments could lead to dissatisfaction and potential churn, impacting overall growth.\n",
        " - **Market Saturation:** Overemphasis on dominant areas may lead to market saturation, limiting growth opportunities. Exploring untapped markets is crucial for sustainable expansion."
      ],
      "metadata": {
        "id": "jLNxxz7MYrdP"
      }
    },
    {
      "cell_type": "markdown",
      "source": [
        "#### Chart - 5"
      ],
      "metadata": {
        "id": "bamQiAODYuh1"
      }
    },
    {
      "cell_type": "code",
      "source": [
        "# Chart - 5 visualization code\n",
        "\n",
        "# Set up subplots\n",
        "fig, axes = plt.subplots(1, 2, figsize=(8, 4))\n",
        "# Bar plot for International Plan column\n",
        "ax1 = sns.countplot(x='International plan', data=df, palette='bright', ax=axes[0], order=['No', 'Yes'])\n",
        "total_international_plan = len(df['International plan'])\n",
        "for p in ax1.patches:\n",
        "    value = p.get_height()\n",
        "    percentage = '{:.1f}%'.format(100 * value / total_international_plan)\n",
        "    x = p.get_x() + p.get_width() / 2\n",
        "    y = p.get_height() + 50\n",
        "    ax1.annotate(f'{value}  \\n({percentage})', (x, y), ha='center', va='bottom', fontsize=10, color='black')\n",
        "ax1.set_xlabel('International Plan')\n",
        "ax1.set_ylabel('Customers')\n",
        "ax1.set_title('CUSTOMERS TO INTERNATIONAL PLAN')\n",
        "ax1.spines[['top', 'right']].set_visible(False)\n",
        "# Bar plot for Voice mail plan column\n",
        "ax2 = sns.countplot(x='Voice mail plan', data=df, palette='bright', ax=axes[1], order=['No', 'Yes'])\n",
        "total_voice_mail_plan = len(df['Voice mail plan'])\n",
        "for p in ax2.patches:\n",
        "    value = p.get_height()\n",
        "    percentage = '{:.1f}%'.format(100 * value / total_voice_mail_plan)\n",
        "    x = p.get_x() + p.get_width() / 2\n",
        "    y = p.get_height() + 50\n",
        "    ax2.annotate(f'{value}  \\n({percentage})', (x, y), ha='center', va='bottom', fontsize=10, color='black')\n",
        "ax2.set_xlabel('Voice mail plan')\n",
        "ax2.set_ylabel('Customers')\n",
        "ax2.set_title('CUSTOMERS TO VOICE MAIL PLAN')\n",
        "ax2.spines[['top', 'right']].set_visible(False)\n",
        "# Set y-axis limits\n",
        "ax1.set_ylim(0, max(df['International plan'].value_counts()) + 500)\n",
        "ax2.set_ylim(0, max(df['Voice mail plan'].value_counts()) + 500)\n",
        "plt.tight_layout()\n",
        "plt.show()"
      ],
      "metadata": {
        "id": "TIJwrbroYuh3"
      },
      "execution_count": null,
      "outputs": []
    },
    {
      "cell_type": "markdown",
      "source": [
        "##### 1. Why did you pick the specific chart?"
      ],
      "metadata": {
        "id": "QHF8YVU7Yuh3"
      }
    },
    {
      "cell_type": "markdown",
      "source": [
        "Answer Here.\n",
        "\n",
        "The bar chart was chosen for its suitability in illustrating the distribution of 'International' and 'Voice mial plan.' Its layout allows easy comparison of counts, providing an intuitive representation. The addition of percentage labels enhances clarity, making it a clear and effective choice for visualizing categorical data distribution."
      ],
      "metadata": {
        "id": "dcxuIMRPYuh3"
      }
    },
    {
      "cell_type": "markdown",
      "source": [
        "##### 2. What is/are the insight(s) found from the chart?"
      ],
      "metadata": {
        "id": "GwzvFGzlYuh3"
      }
    },
    {
      "cell_type": "markdown",
      "source": [
        "Answer Here\n",
        "\n",
        "The majority of customers do not have an \"International Plan,\" as evidenced by the significantly higher count compared to those who do.\n",
        "Similarly, most customers also do not have a \"Voice Mail Plan,\" with a larger count in the \"No\" category.\n",
        "The distribution indicates that the telecom company's customer base is predominantly composed of users who have not subscribed to additional services like international calling plans or voice mail services."
      ],
      "metadata": {
        "id": "uyqkiB8YYuh3"
      }
    },
    {
      "cell_type": "markdown",
      "source": [
        "##### 3. Will the gained insights help creating a positive business impact?\n",
        "Are there any insights that lead to negative growth? Justify with specific reason."
      ],
      "metadata": {
        "id": "qYpmQ266Yuh3"
      }
    },
    {
      "cell_type": "markdown",
      "source": [
        "Answer Here\n",
        "\n",
        "\n",
        "The gained insights can potentially lead to positive business impacts and inform strategic decisions in the following ways:\n",
        "\n",
        "**Positive Impact:** Understanding that the majority of customers do not have additional plans like the \"International Plan\" or \"Voice Mail Plan\" can guide the company in refining its marketing strategies. It can focus resources on promoting these plans to specific customer segments or incentivize existing customers to upgrade their plans, thereby increasing revenue.\n",
        "\n",
        "**Negative Growth:** The insight that most customers do not have additional plans may indicate missed revenue opportunities. If the company fails to effectively market these services or address customer needs for international calling or voice mail, it could lead to stagnant growth or even loss of market share to competitors who offer more comprehensive service packages. Therefore, addressing this gap in service offerings and marketing strategies is crucial to prevent negative growth."
      ],
      "metadata": {
        "id": "_WtzZ_hCYuh4"
      }
    },
    {
      "cell_type": "markdown",
      "source": [
        "#### Chart - 6"
      ],
      "metadata": {
        "id": "OH-pJp9IphqM"
      }
    },
    {
      "cell_type": "code",
      "source": [
        "# Chart - 6 visualization code\n",
        "\n",
        "# Set up subplots\n",
        "fig, axes = plt.subplots(nrows=3, ncols=2, figsize=(15, 15))\n",
        "fig.suptitle('\\nUNIVARIATE ANALYSIS OF DAY METRICS')\n",
        "# Histograms for each column\n",
        "for i, column in enumerate(columns_for_univariate_analysis_day):\n",
        "    plt.subplot(3, 2, 2 * i + 1)\n",
        "    sns.histplot(df[column], bins=20, kde=True, color='skyblue', edgecolor='black')\n",
        "    plt.title(f'HISTOGRAM FOR {column.upper()}')\n",
        "    plt.xlabel(column)\n",
        "    plt.ylabel('Frequency')\n",
        "# Box plots for each column\n",
        "for i, column in enumerate(columns_for_univariate_analysis_day):\n",
        "    plt.subplot(3, 2, 2 * i + 2)\n",
        "    sns.boxplot(x=df[column], color='lightcoral')\n",
        "    plt.title(f'BOX PLOT FOR {column.upper()}')\n",
        "    plt.xlabel(column)\n",
        "plt.tight_layout(rect=[0, 0.03, 1, 0.95])\n",
        "plt.show()\n",
        "\n",
        "# Set up subplots\n",
        "fig, axes = plt.subplots(nrows=3, ncols=2, figsize=(15, 15))\n",
        "fig.suptitle('\\nUNIVARIATE ANALYSIS OF EVENING METRICS')\n",
        "# Histograms for each column\n",
        "for i, column in enumerate(columns_for_univariate_analysis_eve):\n",
        "    plt.subplot(3, 2, 2 * i + 1)\n",
        "    sns.histplot(df[column], bins=20, kde=True, color='skyblue', edgecolor='black')\n",
        "    plt.title(f'HISTOGRAM OF {column.upper()}')\n",
        "    plt.xlabel(column)\n",
        "    plt.ylabel('Frequency')\n",
        "# Box plots for each column\n",
        "for i, column in enumerate(columns_for_univariate_analysis_eve):\n",
        "    plt.subplot(3, 2, 2 * i + 2)\n",
        "    sns.boxplot(x=df[column], color='lightcoral')\n",
        "    plt.title(f'BOX PLOT OF {column.upper()}')\n",
        "    plt.xlabel(column)\n",
        "plt.tight_layout(rect=[0, 0.03, 1, 0.95])\n",
        "plt.show()\n",
        "\n",
        "# Set up subplots\n",
        "fig, axes = plt.subplots(nrows=3, ncols=2, figsize=(15, 15))\n",
        "fig.suptitle('\\nUNIVARIATE ANALYSIS OF NIGHT METRICS')\n",
        "# Histograms for each column\n",
        "for i, column in enumerate(columns_for_univariate_analysis_night):\n",
        "    plt.subplot(3, 2, 2 * i + 1)\n",
        "    sns.histplot(df[column], bins=20, kde=True, color='skyblue', edgecolor='black')\n",
        "    plt.title(f'HISTOGRAM OF {column.upper()}')\n",
        "    plt.xlabel(column)\n",
        "    plt.ylabel('Frequency')\n",
        "# Box plots for each column\n",
        "for i, column in enumerate(columns_for_univariate_analysis_night):\n",
        "    plt.subplot(3, 2, 2 * i + 2)\n",
        "    sns.boxplot(x=df[column], color='lightcoral')\n",
        "    plt.title(f'BOX PLOT OF {column.upper()}')\n",
        "    plt.xlabel(column)\n",
        "plt.tight_layout(rect=[0, 0.03, 1, 0.95])\n",
        "plt.show()\n",
        "\n",
        "# Set up subplots\n",
        "fig, axes = plt.subplots(nrows=3, ncols=2, figsize=(15, 15))\n",
        "fig.suptitle('\\nUNIVARIATE ANALYSIS OF INTERNATIONAL METRICS (EXCLUDING ZERO)')\n",
        "# Histograms for each column\n",
        "for i, column in enumerate(columns_for_univariate_analysis_intl):\n",
        "    plt.subplot(3, 2, 2 * i + 1)\n",
        "    sns.histplot(df_filtered[column], bins=20, kde=True, color='skyblue', edgecolor='black')\n",
        "    plt.title(f'HISTOGRAM OF {column.upper()}')\n",
        "    plt.xlabel(column)\n",
        "    plt.ylabel('Frequency')\n",
        "# Box plots for each column\n",
        "for i, column in enumerate(columns_for_univariate_analysis_intl):\n",
        "    plt.subplot(3, 2, 2 * i + 2)\n",
        "    sns.boxplot(x=df_filtered[column], color='lightcoral')\n",
        "    plt.title(f'BOX PLOT OF {column.upper()}')\n",
        "    plt.xlabel(column)\n",
        "plt.tight_layout(rect=[0, 0.03, 1, 0.95])\n",
        "plt.show()"
      ],
      "metadata": {
        "id": "kuRf4wtuphqN"
      },
      "execution_count": null,
      "outputs": []
    },
    {
      "cell_type": "markdown",
      "source": [
        "##### 1. Why did you pick the specific chart?"
      ],
      "metadata": {
        "id": "bbFf2-_FphqN"
      }
    },
    {
      "cell_type": "markdown",
      "source": [
        "Answer Here.\n",
        "\n",
        "\n",
        "I chose histograms and box plots for univariate analysis because they effectively illustrate the distribution and variability of continuous variables, such as call durations and charges, across different time periods. Histograms provide a visual representation of the frequency distribution of data, helping to identify patterns and outliers, while box plots summarize key statistical measures like median, quartiles, and outliers in a concise manner. Together, these visualizations offer comprehensive insights into the distribution and characteristics of the analyzed metrics."
      ],
      "metadata": {
        "id": "loh7H2nzphqN"
      }
    },
    {
      "cell_type": "markdown",
      "source": [
        "##### 2. What is/are the insight(s) found from the chart?"
      ],
      "metadata": {
        "id": "_ouA3fa0phqN"
      }
    },
    {
      "cell_type": "markdown",
      "source": [
        "Answer Here\n",
        "\n",
        "**Day Metrics:**\n",
        "\n",
        "**Histograms:**\n",
        "The distribution of \"Total day minutes\" appears roughly symmetric with a peak around 200-250 minutes, indicating a typical duration for day calls.\n",
        "\"Total day calls\" distribution shows a slight right skew, suggesting most customers make around 100-120 calls per day.\n",
        "\n",
        "**Box Plots:**\n",
        "Median \"Total day minutes\" is around 180-200 minutes, with some outliers indicating longer call durations.\n",
        "Median \"Total day calls\" is approximately 100-110 calls, with a few outliers suggesting higher call volumes for some customers.\n",
        "\n",
        "**Evening Metrics:**\n",
        "\n",
        "**Histograms:**\n",
        "\"Total evening minutes\" distribution is roughly symmetric with a peak around 200-250 minutes, similar to the day call duration.\n",
        "\"Total evening calls\" distribution also exhibits a similar shape to day calls, with a peak around 100-120 calls.\n",
        "\n",
        "**Box Plots:**\n",
        "Median \"Total evening minutes\" and \"Total evening calls\" are consistent with day metrics, indicating similar call patterns during the evening hours.\n",
        "\n",
        "**Night Metrics:**\n",
        "\n",
        "**Histograms:**\n",
        "\"Total night minutes\" distribution shows a peak around 200-250 minutes, suggesting a typical range for night call durations.\n",
        "\"Total night calls\" distribution is relatively uniform, indicating consistent call volumes across different durations.\n",
        "\n",
        "**Box Plots:**\n",
        "Median \"Total night minutes\" and \"Total night calls\" are similar to day and evening metrics, indicating consistent call patterns throughout the day.\n",
        "\n",
        "**International Metrics (Excluding Zero):**\n",
        "\n",
        "**Histograms:**\n",
        "\"Total intl minutes\" distribution exhibits a right skew, indicating most customers have lower international call durations.\n",
        "\"Total intl calls\" distribution is heavily right-skewed, suggesting that the majority of customers make fewer international calls.\n",
        "\n",
        "**Box Plots:**\n",
        "Median \"Total intl minutes\" and \"Total intl calls\" are relatively low compared to domestic calls, indicating less frequent usage of international services."
      ],
      "metadata": {
        "id": "VECbqPI7phqN"
      }
    },
    {
      "cell_type": "markdown",
      "source": [
        "##### 3. Will the gained insights help creating a positive business impact?\n",
        "Are there any insights that lead to negative growth? Justify with specific reason."
      ],
      "metadata": {
        "id": "Seke61FWphqN"
      }
    },
    {
      "cell_type": "markdown",
      "source": [
        "Answer Here\n",
        "\n",
        "Yes, the insights gained from the univariate analysis of day, evening, night, and international metrics can help create a positive business impact by providing valuable information for decision-making. However, there are some insights that may potentially lead to negative growth:\n",
        "\n",
        "**Negative Growth Insights:**\n",
        "\n",
        "High variability in \"Total day minutes\" and \"Total evening minutes\" could indicate dissatisfaction or irregular usage patterns among customers, potentially leading to churn if not addressed.\n",
        "The presence of outliers in \"Total night minutes\" and \"Total intl minutes\" suggests that some customers may be engaging in excessive usage, leading to higher costs for the business without proportional revenue gain.\n",
        "\n",
        "**Potential Actions:**\n",
        "\n",
        "Implement targeted marketing campaigns or promotions during peak call hours to encourage more usage and enhance customer satisfaction.\n",
        "Monitor and analyze usage patterns of customers with unusually high call durations to identify potential issues or opportunities for upselling to more suitable plans.\n",
        "Offer personalized international calling plans or discounts to cater to the diverse needs of customers and encourage more frequent usage within reasonable limits.\n",
        "By addressing these insights and taking proactive measures to optimize service offerings and customer experiences, the business can mitigate potential negative impacts and foster sustainable growth."
      ],
      "metadata": {
        "id": "DW4_bGpfphqN"
      }
    },
    {
      "cell_type": "markdown",
      "source": [
        "#### Chart - 7"
      ],
      "metadata": {
        "id": "PIIx-8_IphqN"
      }
    },
    {
      "cell_type": "code",
      "source": [
        "# Chart - 7 visualization code\n",
        "\n",
        "# Set up the countplot\n",
        "plt.figure(figsize=(8, 4))\n",
        "sns.set(style=\"darkgrid\")\n",
        "ax = sns.countplot(x=df[column_for_univariate_analysis_service_calls], palette='viridis')\n",
        "# Add count and percentage on top of each bar\n",
        "total = len(df[column_for_univariate_analysis_service_calls])\n",
        "for p in ax.patches:\n",
        "    height = p.get_height()\n",
        "    ax.text(p.get_x() + p.get_width() / 2.,\n",
        "            height + 50,\n",
        "            f'{height} \\n({height/total:.1%})',\n",
        "            fontsize=10,\n",
        "            ha=\"center\")\n",
        "plt.title(\"NUMBER OF CUSTOMER SERVICE CALLS DONE BY CUSTOMERS\")\n",
        "plt.xlabel(column_for_univariate_analysis_service_calls)\n",
        "plt.ylabel('Number of Customers')\n",
        "# Increase the vertical range by setting y-axis limits\n",
        "plt.ylim(0, max(ax.patches, key=lambda x: x.get_height()).get_height() + 300)\n",
        "plt.show()"
      ],
      "metadata": {
        "id": "lqAIGUfyphqO"
      },
      "execution_count": null,
      "outputs": []
    },
    {
      "cell_type": "markdown",
      "source": [
        "##### 1. Why did you pick the specific chart?"
      ],
      "metadata": {
        "id": "t27r6nlMphqO"
      }
    },
    {
      "cell_type": "markdown",
      "source": [
        "Answer Here.\n",
        "\n",
        "\n",
        "I chose the countplot because it effectively displays the distribution of categorical data, which is suitable for visualizing the number of customer service calls, a discrete variable. Countplots are ideal for showing the frequency or count of each category in a categorical variable, making it easy to compare the number of customers across different service call categories. Additionally, by adding counts and percentages on top of each bar, it provides detailed information about the distribution while maintaining clarity and readability.\n",
        "\n",
        "\n"
      ],
      "metadata": {
        "id": "iv6ro40sphqO"
      }
    },
    {
      "cell_type": "markdown",
      "source": [
        "##### 2. What is/are the insight(s) found from the chart?"
      ],
      "metadata": {
        "id": "r2jJGEOYphqO"
      }
    },
    {
      "cell_type": "markdown",
      "source": [
        "Answer Here\n",
        "\n",
        "\n",
        "From the countplot of the number of customer service calls, the insights obtained include:\n",
        "\n",
        "The majority of customers have made fewer service calls, with the highest frequency observed in the lower range of service calls.\n",
        "There is a gradual decrease in the number of customers as the number of service calls increases, indicating that a smaller proportion of customers make more service calls.\n",
        "Understanding the distribution of service calls can help identify trends and patterns in customer behavior, potentially leading to improvements in customer service strategies."
      ],
      "metadata": {
        "id": "Po6ZPi4hphqO"
      }
    },
    {
      "cell_type": "markdown",
      "source": [
        "##### 3. Will the gained insights help creating a positive business impact?\n",
        "Are there any insights that lead to negative growth? Justify with specific reason."
      ],
      "metadata": {
        "id": "b0JNsNcRphqO"
      }
    },
    {
      "cell_type": "markdown",
      "source": [
        "Answer Here\n",
        "\n",
        "\n",
        "The insights gained from the countplot of customer service calls can indeed help create a positive business impact:\n",
        "\n",
        "**Positive Impact:**\n",
        "\n",
        "Understanding the distribution of service calls allows businesses to identify areas for improvement in their products or services, leading to enhanced customer satisfaction and loyalty.\n",
        "\n",
        "By analyzing the reasons behind customer service calls and addressing recurring issues, businesses can streamline their operations, reduce costs, and allocate resources more efficiently.\n",
        "\n",
        "**Negative Growth:**\n",
        "\n",
        "High frequencies of service calls may indicate underlying issues with products or services, potentially leading to customer dissatisfaction, increased churn rates, and negative word-of-mouth publicity.\n",
        "\n",
        "If not addressed promptly, repeated service calls can strain resources, increase operational costs, and undermine the overall efficiency of customer service operations, potentially leading to negative growth."
      ],
      "metadata": {
        "id": "xvSq8iUTphqO"
      }
    },
    {
      "cell_type": "markdown",
      "source": [
        "#### Chart - 8"
      ],
      "metadata": {
        "id": "BZR9WyysphqO"
      }
    },
    {
      "cell_type": "code",
      "source": [
        "# Chart - 8 visualization code\n",
        "\n",
        "# Set up the countplot with horizontal bars\n",
        "plt.figure(figsize=(8, 4))\n",
        "sns.set(style=\"white\")\n",
        "ax = sns.countplot(y=df[column_for_univariate_analysis_churn], palette='bright')\n",
        "# Add count and percentage\n",
        "total_churn = len(df[column_for_univariate_analysis_churn])\n",
        "for p in ax.patches:\n",
        "    width = p.get_width()\n",
        "    ax.text(width + 50,\n",
        "            p.get_y() + p.get_height() / 2.,\n",
        "            f'{width} \\n({width/total_churn:.1%})',\n",
        "            fontsize=10,\n",
        "            va=\"center\")\n",
        "plt.title(\"NUMBER OF CUSTOMERS CHURNED\")\n",
        "plt.xlabel('Number of Customers')\n",
        "plt.ylabel(column_for_univariate_analysis_churn)\n",
        "plt.gca().spines[['top', 'right']].set_visible(False)\n",
        "plt.show()"
      ],
      "metadata": {
        "id": "TdPTWpAVphqO"
      },
      "execution_count": null,
      "outputs": []
    },
    {
      "cell_type": "markdown",
      "source": [
        "##### 1. Why did you pick the specific chart?"
      ],
      "metadata": {
        "id": "jj7wYXLtphqO"
      }
    },
    {
      "cell_type": "markdown",
      "source": [
        "Answer Here.\n",
        "\n",
        "\n",
        "I chose a horizontal countplot to visualize the distribution of churned customers because it provides a clear comparison of the number of churned and non-churned customers.\n",
        "\n"
      ],
      "metadata": {
        "id": "Ob8u6rCTphqO"
      }
    },
    {
      "cell_type": "markdown",
      "source": [
        "##### 2. What is/are the insight(s) found from the chart?"
      ],
      "metadata": {
        "id": "eZrbJ2SmphqO"
      }
    },
    {
      "cell_type": "markdown",
      "source": [
        "Answer Here\n",
        "\n",
        "* The plot reveals the proportion of churned and non-churned customers, allowing for a quick understanding of the churn rate.\n",
        "* It helps identify the magnitude of churn within the dataset and assess its impact on business operations.\n",
        "* By analyzing the reasons behind churn, businesses can implement strategies to reduce churn rates and improve customer retention."
      ],
      "metadata": {
        "id": "mZtgC_hjphqO"
      }
    },
    {
      "cell_type": "markdown",
      "source": [
        "##### 3. Will the gained insights help creating a positive business impact?\n",
        "Are there any insights that lead to negative growth? Justify with specific reason."
      ],
      "metadata": {
        "id": "rFu4xreNphqO"
      }
    },
    {
      "cell_type": "markdown",
      "source": [
        "Answer Here\n",
        "\n",
        "**Positive Impact:**\n",
        "\n",
        "* Understanding the churn rate enables businesses to focus on retaining customers, thereby improving customer lifetime value and revenue.\n",
        "* Identifying patterns or common characteristics among churned customers can help develop targeted retention strategies, such as personalized offers or improved customer service.\n",
        "\n",
        "**Negative Growth:**\n",
        "\n",
        "* High churn rates may indicate underlying issues with products, services, or customer experiences, leading to reduced revenue and market share.\n",
        "* Failure to address churn effectively can result in a loss of loyal customers, negative brand reputation, and decreased competitiveness in the market."
      ],
      "metadata": {
        "id": "ey_0qi68phqO"
      }
    },
    {
      "cell_type": "markdown",
      "source": [
        "#### Chart - 9"
      ],
      "metadata": {
        "id": "YJ55k-q6phqO"
      }
    },
    {
      "cell_type": "code",
      "source": [
        "# Chart - 9 visualization code\n",
        "\n",
        "# Calculate churn percentage for each state\n",
        "state_churn_percentage = df.groupby('State')['Churn'].mean()*100\n",
        "# Sort states in descending order of churn percentage\n",
        "sorted_states = state_churn_percentage.sort_values(ascending=False).index\n",
        "# Set up the double bar plot with line plot\n",
        "fig, ax1 = plt.subplots(figsize=(20, 5))\n",
        "# Total count plot\n",
        "total_counts = df['State'].value_counts()\n",
        "ax1.bar(total_counts.index, total_counts, color='lightblue', alpha=0.5, label='Total Count')\n",
        "ax1.set_title('CHURNING RATE ACROSS STATES')\n",
        "ax1.set_xlabel('State')\n",
        "ax1.set_ylabel('Customers')\n",
        "ax1.legend(title='Churn', loc='upper right')\n",
        "ax1.tick_params(axis='x', rotation=90)\n",
        "# Double bar plot for Churn with specified order\n",
        "sns.countplot(x='State', hue='Churn', data=df, palette=['#2dfe54', '#fe0002'], order=sorted_states, ax=ax1)\n",
        "# Line plot for churn percentage\n",
        "ax2 = ax1.twinx()\n",
        "sns.lineplot(x=sorted_states, y=state_churn_percentage[sorted_states], color='orange', marker='o', ax=ax2)\n",
        "ax2.set_ylabel('Churn Rate', color='orange')\n",
        "# Annotate the line plot with percentage values\n",
        "for index, value in enumerate(state_churn_percentage[sorted_states]):\n",
        "    ax2.text(index, value, f'{value:.2f}%', ha='center', va='center', color='black', fontsize=9, rotation=45)\n",
        "# Increase the vertical range by setting y-axis limits\n",
        "plt.ylim(0, max(ax.patches, key=lambda x: x.get_height()).get_height() + 30)\n",
        "plt.show()\n",
        "\n",
        "# Mapping the data\n",
        "map_fig = px.choropleth(merge,\n",
        "                        locations='id',\n",
        "                        geojson=us_states,\n",
        "                        scope='usa',\n",
        "                        color='% Churn',\n",
        "                        hover_name='name',\n",
        "                        hover_data=['State','% Churn'],\n",
        "                        color_continuous_scale=px.colors.diverging.Armyrose,\n",
        "                        color_continuous_midpoint=16\n",
        ")\n",
        "map_fig.show()"
      ],
      "metadata": {
        "id": "B2aS4O1ophqO"
      },
      "execution_count": null,
      "outputs": []
    },
    {
      "cell_type": "markdown",
      "source": [
        "##### 1. Why did you pick the specific chart?"
      ],
      "metadata": {
        "id": "gCFgpxoyphqP"
      }
    },
    {
      "cell_type": "markdown",
      "source": [
        "Answer Here.\n",
        "\n",
        "* **Bar Plot with Line Plot (Top):**\n",
        "\n",
        " * The bar plot displays the total count of customers per state, with bars colored by churn status (churned or not churned).\n",
        " * Additionally, a line plot superimposed on the bar plot represents the churn rate percentage for each state.\n",
        "\n",
        "* **Choropleth Map (Bottom):**\n",
        "\n",
        " * The code snippet utilizes Plotly's choropleth map to visualize churn rates geographically across states.\n",
        " * Each state is shaded according to its churn rate percentage, providing a visual representation of churn hotspots."
      ],
      "metadata": {
        "id": "TVxDimi2phqP"
      }
    },
    {
      "cell_type": "markdown",
      "source": [
        "##### 2. What is/are the insight(s) found from the chart?"
      ],
      "metadata": {
        "id": "OVtJsKN_phqQ"
      }
    },
    {
      "cell_type": "markdown",
      "source": [
        "Answer Here\n",
        "\n",
        "* The combined visualization allows for a comprehensive understanding of churn patterns both at the state level (bar plot) and geospatially (choropleth map).\n",
        "* It enables identification of states with high churn rates and offers insights into geographical variations in churn behavior.\n",
        "* By correlating churn rates with other demographic or behavioral data, businesses can devise targeted strategies to address churn in specific regions."
      ],
      "metadata": {
        "id": "ngGi97qjphqQ"
      }
    },
    {
      "cell_type": "markdown",
      "source": [
        "##### 3. Will the gained insights help creating a positive business impact?\n",
        "Are there any insights that lead to negative growth? Justify with specific reason."
      ],
      "metadata": {
        "id": "lssrdh5qphqQ"
      }
    },
    {
      "cell_type": "markdown",
      "source": [
        "Answer Here\n",
        "\n",
        "**Positive Impact:**\n",
        "\n",
        "* Understanding regional churn patterns facilitates targeted marketing efforts, customer engagement strategies, and resource allocation to mitigate churn.\n",
        "* Geospatial insights help businesses tailor products, services, and support offerings to meet the unique needs of customers in different regions.\n",
        "\n",
        "**Negative Growth:**\n",
        "\n",
        "* High churn rates in key geographic areas could signify underlying issues related to customer satisfaction, product quality, or market competition.\n",
        "* Failure to address regional churn effectively may lead to loss of market share, decreased revenue, and diminished brand reputation in those areas."
      ],
      "metadata": {
        "id": "tBpY5ekJphqQ"
      }
    },
    {
      "cell_type": "markdown",
      "source": [
        "#### Chart - 10"
      ],
      "metadata": {
        "id": "U2RJ9gkRphqQ"
      }
    },
    {
      "cell_type": "code",
      "source": [
        "# Chart - 10 visualization code\n",
        "\n",
        "# Create a cross-tabulation between 'Account length category' and 'Churn'\n",
        "ct_matrix = pd.crosstab(df['Account length category'], df['Churn'], normalize='index') * 100\n",
        "# Set up the heatmap with customized colors and border\n",
        "plt.figure(figsize=(6, 4))\n",
        "sns.heatmap(ct_matrix, annot=True, fmt=\".2f\", cmap=\"RdYlGn\", linewidths=0.5, linecolor='black', cbar_kws={'label': 'Churn Percentage'})\n",
        "# Add labels and title\n",
        "plt.xlabel('Churn')\n",
        "plt.ylabel('Account Length Category')\n",
        "plt.title('HEATMAP OF CHURN v/s ACCOUNT LENGTH CATEGORY')\n",
        "plt.show()"
      ],
      "metadata": {
        "id": "GM7a4YP4phqQ"
      },
      "execution_count": null,
      "outputs": []
    },
    {
      "cell_type": "markdown",
      "source": [
        "##### 1. Why did you pick the specific chart?"
      ],
      "metadata": {
        "id": "1M8mcRywphqQ"
      }
    },
    {
      "cell_type": "markdown",
      "source": [
        "Answer Here.\n",
        "* **Cross-Tabulation (Crosstab):** The code computes a cross-tabulation between 'Account length category' and 'Churn', calculating the churn percentage within each account length category.\n",
        "* **Heatmap:** Using Seaborn's heatmap function, the cross-tabulation results are visualized as a heatmap. Each cell in the heatmap represents the churn percentage for a specific combination of account length category and churn status.\n",
        "\n",
        "**Customization:**\n",
        "\n",
        "* **Annotation:** Churn percentages are annotated within each cell of the heatmap, rounded to two decimal places.\n",
        "* **Color Map:** The heatmap color map is customized using the \"RdYlGn\" colormap, which ranges from red (indicating higher churn) to green (indicating lower churn).\n",
        "* **Border and Labels:** The heatmap includes customized linewidths, line color, and labels for better readability."
      ],
      "metadata": {
        "id": "8agQvks0phqQ"
      }
    },
    {
      "cell_type": "markdown",
      "source": [
        "##### 2. What is/are the insight(s) found from the chart?"
      ],
      "metadata": {
        "id": "tgIPom80phqQ"
      }
    },
    {
      "cell_type": "markdown",
      "source": [
        "Answer Here\n",
        "* The heatmap provides a visual summary of how churn rates vary across different account length categories.\n",
        "* It helps identify whether account length has a significant impact on churn behavior, allowing businesses to tailor retention strategies accordingly."
      ],
      "metadata": {
        "id": "Qp13pnNzphqQ"
      }
    },
    {
      "cell_type": "markdown",
      "source": [
        "##### 3. Will the gained insights help creating a positive business impact?\n",
        "Are there any insights that lead to negative growth? Justify with specific reason."
      ],
      "metadata": {
        "id": "JMzcOPDDphqR"
      }
    },
    {
      "cell_type": "markdown",
      "source": [
        "Answer Here\n",
        "\n",
        "**Positive Impact:**\n",
        "\n",
        "* Understanding the relationship between account length and churn can inform targeted customer retention efforts.\n",
        "* Businesses can develop personalized retention strategies based on customer tenure, improving overall customer satisfaction and loyalty.\n",
        "\n",
        "**Negative Growth:**\n",
        "\n",
        "* Failure to address churn patterns associated with specific account length categories may lead to customer attrition and revenue loss.\n",
        "* Ineffective retention strategies for long-standing or new customers could result in negative growth and hinder business sustainability."
      ],
      "metadata": {
        "id": "R4Ka1PC2phqR"
      }
    },
    {
      "cell_type": "markdown",
      "source": [
        "#### Chart - 11"
      ],
      "metadata": {
        "id": "x-EpHcCOp1ci"
      }
    },
    {
      "cell_type": "code",
      "source": [
        "# Chart - 11 visualization code\n",
        "\n",
        "# Create a cross-tabulation between 'Area code' and 'Churn'\n",
        "ct_matrix = pd.crosstab(df['Area code'], df['Churn'])\n",
        "# Normalize the values to get percentages\n",
        "ct_matrix_percent = ct_matrix.div(ct_matrix.sum(axis=1), axis=0) * 100\n",
        "# Set up the heatmap\n",
        "plt.figure(figsize=(6, 4))\n",
        "sns.heatmap(ct_matrix_percent, annot=True, fmt=\".2f\", cmap=\"RdYlGn\", linewidths=0.5, linecolor='black', cbar_kws={'label': 'Churn Percentage'})\n",
        "# Add labels and title\n",
        "plt.xlabel('Churn')\n",
        "plt.ylabel('Area Code')\n",
        "plt.title('HEATMAP OF CHURN VS AREA CODE')\n",
        "plt.show()"
      ],
      "metadata": {
        "id": "mAQTIvtqp1cj"
      },
      "execution_count": null,
      "outputs": []
    },
    {
      "cell_type": "markdown",
      "source": [
        "##### 1. Why did you pick the specific chart?"
      ],
      "metadata": {
        "id": "X_VqEhTip1ck"
      }
    },
    {
      "cell_type": "markdown",
      "source": [
        "Answer Here.\n",
        "\n",
        "* **Cross-Tabulation (Crosstab):** The code computes a cross-tabulation between 'Area code' and 'Churn', counting the frequency of churn and non-churn instances for each area code.\n",
        "\n",
        "* **Normalization:** To compare churn percentages across different area codes, the frequency counts are normalized to percentages. Each cell in the heatmap represents the percentage of churn for a specific area code.\n",
        "\n",
        "* **Heatmap:** Using Seaborn's heatmap function, the normalized cross-tabulation results are visualized as a heatmap. The color intensity in each cell represents the churn percentage, with higher intensities indicating higher churn rates.\n",
        "\n",
        "**Customization:**\n",
        "\n",
        "* **Annotation:** Churn percentages are annotated within each cell of the heatmap, rounded to two decimal places, providing additional insights into the data.\n",
        "* **Color Map:** The heatmap color map is customized using the \"RdYlGn\" colormap, which ranges from red (indicating higher churn) to green (indicating lower churn).\n",
        "* **Border and Labels:** The heatmap includes customized linewidths, line color, and labels for better readability."
      ],
      "metadata": {
        "id": "-vsMzt_np1ck"
      }
    },
    {
      "cell_type": "markdown",
      "source": [
        "##### 2. What is/are the insight(s) found from the chart?"
      ],
      "metadata": {
        "id": "8zGJKyg5p1ck"
      }
    },
    {
      "cell_type": "markdown",
      "source": [
        "Answer Here\n",
        "* The heatmap helps visualize the churn distribution across different area codes, enabling businesses to identify areas with higher churn rates.\n",
        "* By understanding the geographical variations in churn, businesses can develop targeted retention strategies to address specific regions' needs and improve customer loyalty."
      ],
      "metadata": {
        "id": "ZYdMsrqVp1ck"
      }
    },
    {
      "cell_type": "markdown",
      "source": [
        "##### 3. Will the gained insights help creating a positive business impact?\n",
        "Are there any insights that lead to negative growth? Justify with specific reason."
      ],
      "metadata": {
        "id": "PVzmfK_Ep1ck"
      }
    },
    {
      "cell_type": "markdown",
      "source": [
        "Answer Here\n",
        "\n",
        "**Positive Impact:**\n",
        "* Tailoring retention strategies based on area-specific churn patterns can lead to improved customer satisfaction and reduced churn rates.\n",
        "* Enhanced customer retention can contribute to increased revenue and long-term business growth.\n",
        "\n",
        "**Negative Growth:**\n",
        "* Ignoring geographical variations in churn may result in ineffective retention efforts and higher customer attrition.\n",
        "* Failure to address area-specific churn patterns could lead to negative growth, as businesses may lose valuable customers and revenue opportunities in certain regions."
      ],
      "metadata": {
        "id": "druuKYZpp1ck"
      }
    },
    {
      "cell_type": "markdown",
      "source": [
        "#### Chart - 12"
      ],
      "metadata": {
        "id": "n3dbpmDWp1ck"
      }
    },
    {
      "cell_type": "code",
      "source": [
        "# Chart - 12 visualization code\n",
        "\n",
        "# Calculate the total number of users for each state in different area codes\n",
        "state_area_counts = df.groupby(['Area code', 'State']).size().reset_index(name='User Count')\n",
        "# Sort the DataFrame by 'User Count' in descending order\n",
        "state_area_counts_sorted = state_area_counts.sort_values(by=['Area code', 'User Count'], ascending=[True, False])\n",
        "# Get the top 5 and bottom 5 states for each area code based on user count\n",
        "top5_states_counts = state_area_counts_sorted.groupby('Area code').head(5)\n",
        "bottom5_states_counts = state_area_counts_sorted.groupby('Area code').tail(5)\n",
        "# Calculate churn percentages for each state in different area codes\n",
        "state_area_churn = df.groupby(['Area code', 'State'])['Churn'].mean().reset_index(name='Churn Percentage')\n",
        "# Sort the DataFrame by 'Churn Percentage' in descending order\n",
        "state_area_churn_sorted = state_area_churn.sort_values(by=['Area code', 'Churn Percentage'], ascending=[True, False])\n",
        "# Get the top 5 and bottom 5 states for each area code based on churn percentage\n",
        "top5_states_churn = state_area_churn_sorted.groupby('Area code').head(5)\n",
        "bottom5_states_churn = state_area_churn_sorted.groupby('Area code').tail(5)\n",
        "\n",
        "# Plotting\n",
        "fig, axes = plt.subplots(nrows=2, ncols=2, figsize=(15, 10))\n",
        "# Top 5 States based on User Count\n",
        "sns.barplot(x='User Count', y='State', hue='Area code', data=top5_states_counts, ax=axes[0, 0], palette='bright')\n",
        "axes[0, 0].set_title('Top 5 States Based on User Count')\n",
        "# Bottom 5 States based on User Count\n",
        "sns.barplot(x='User Count', y='State', hue='Area code', data=bottom5_states_counts, ax=axes[0, 1], palette='bright')\n",
        "axes[0, 1].set_title('Bottom 5 States Based on User Count')\n",
        "\n",
        "# Top 5 States based on Churn Percentage\n",
        "sns.barplot(x='Churn Percentage', y='State', hue='Area code', data=top5_states_churn, ax=axes[1, 0], palette='bright')\n",
        "axes[1, 0].set_title('Top 5 States Based on Churn Percentage')\n",
        "# Bottom 5 States based on Churn Percentage\n",
        "sns.barplot(x='Churn Percentage', y='State', hue='Area code', data=bottom5_states_churn, ax=axes[1, 1], palette='bright')\n",
        "axes[1, 1].set_title('Bottom 5 States Based on Churn Percentage')\n",
        "\n",
        "plt.tight_layout()\n",
        "plt.show()"
      ],
      "metadata": {
        "id": "bwevp1tKp1ck"
      },
      "execution_count": null,
      "outputs": []
    },
    {
      "cell_type": "markdown",
      "source": [
        "##### 1. Why did you pick the specific chart?"
      ],
      "metadata": {
        "id": "ylSl6qgtp1ck"
      }
    },
    {
      "cell_type": "markdown",
      "source": [
        "Answer Here.\n",
        "\n",
        "The four bar plots are used to visualize the top and bottom 5 states based on user count and churn percentage across different area codes. Here's a breakdown:\n",
        "\n",
        "**Data Preparation:**\n",
        "\n",
        "* The total number of users for each state in different area codes is calculated and sorted based on user count.\n",
        "* Churn percentages for each state in different area codes are computed and sorted based on churn percentage.\n",
        "\n",
        "**Visualization:**\n",
        "\n",
        "* **Top 5 States Based on User Count:** Two bar plots display the top 5 states with the highest user count for each area code. Each bar represents a state, and the bar's length indicates the number of users. The bars are grouped by area code, allowing comparison across different regions.\n",
        "* **Bottom 5 States Based on User Count:** Similar to the top 5 states, these plots illustrate the states with the lowest user count for each area code.\n",
        "* **Top 5 States Based on Churn Percentage:** Another pair of bar plots depict the top 5 states with the highest churn percentage for each area code. The bar lengths represent the churn percentage, allowing businesses to identify regions with the highest churn rates.\n",
        "* **Bottom 5 States Based on Churn Percentage:** Conversely, these plots show the states with the lowest churn percentage for each area code."
      ],
      "metadata": {
        "id": "m2xqNkiQp1ck"
      }
    },
    {
      "cell_type": "markdown",
      "source": [
        "##### 2. What is/are the insight(s) found from the chart?"
      ],
      "metadata": {
        "id": "ZWILFDl5p1ck"
      }
    },
    {
      "cell_type": "markdown",
      "source": [
        "Answer Here\n",
        "\n",
        "* Businesses can identify states with the highest and lowest user counts and churn percentages across different area codes.\n",
        "* Understanding regional variations in user count and churn can inform targeted marketing strategies and retention efforts.\n",
        "* High churn rates in certain states may indicate underlying issues that require attention, while low churn rates present opportunities for customer retention and growth."
      ],
      "metadata": {
        "id": "x-lUsV2mp1ck"
      }
    },
    {
      "cell_type": "markdown",
      "source": [
        "##### 3. Will the gained insights help creating a positive business impact?\n",
        "Are there any insights that lead to negative growth? Justify with specific reason."
      ],
      "metadata": {
        "id": "M7G43BXep1ck"
      }
    },
    {
      "cell_type": "markdown",
      "source": [
        "Answer Here\n",
        "\n",
        "**Positive Impact:**\n",
        "\n",
        "* By focusing resources on states with high user counts and low churn rates, businesses can enhance customer satisfaction and loyalty, leading to positive business outcomes.\n",
        "* Targeted marketing campaigns and retention strategies tailored to specific regions can optimize resource allocation and drive revenue growth.\n",
        "\n",
        "**Negative Growth:**\n",
        "\n",
        "* Ignoring regional variations in user behavior and churn rates may result in ineffective marketing and retention efforts, leading to customer attrition and negative business impact.\n",
        "* Failure to address high churn rates in key states could lead to revenue loss and hinder business growth opportunities."
      ],
      "metadata": {
        "id": "5wwDJXsLp1cl"
      }
    },
    {
      "cell_type": "markdown",
      "source": [
        "#### Chart - 13"
      ],
      "metadata": {
        "id": "7wmMvLrZTw74"
      }
    },
    {
      "cell_type": "code",
      "source": [
        "# Chart - 13 visualization code\n",
        "\n",
        "# Plotting mean account length based on states in descending order\n",
        "plt.figure(figsize=(15, 5))\n",
        "sns.barplot(x='State', y='Mean Account Length', data=state_account_summary_sorted, palette='RdYlGn')\n",
        "plt.title('AVERAGE ACCOUNT LENGTH PER STATE')\n",
        "plt.xlabel('State')\n",
        "plt.ylabel('Average Account Length')\n",
        "plt.xticks(rotation=90)\n",
        "plt.show()"
      ],
      "metadata": {
        "id": "DZh_fNk7Tw75"
      },
      "execution_count": null,
      "outputs": []
    },
    {
      "cell_type": "markdown",
      "source": [
        "##### 1. Why did you pick the specific chart?"
      ],
      "metadata": {
        "id": "pNd72DYeTw75"
      }
    },
    {
      "cell_type": "markdown",
      "source": [
        "Answer Here.\n",
        "\n",
        "**Data Preparation:**\n",
        "\n",
        "* The mean account length for each state is calculated and stored in a DataFrame.\n",
        "* The DataFrame is sorted in descending order based on the average account length.\n",
        "\n",
        "**Visualization:**\n",
        "\n",
        "* A bar plot is created using Seaborn's barplot function, with states on the x-axis and the mean account length on the y-axis.\n",
        "* Each bar represents a state, and its height corresponds to the average account length for that state.\n",
        "* States are arranged in descending order based on their mean account length, providing a clear visual comparison."
      ],
      "metadata": {
        "id": "algxWMMFTw75"
      }
    },
    {
      "cell_type": "markdown",
      "source": [
        "##### 2. What is/are the insight(s) found from the chart?"
      ],
      "metadata": {
        "id": "6-FwvWQFTw75"
      }
    },
    {
      "cell_type": "markdown",
      "source": [
        "Answer Here\n",
        "\n",
        "* The plot allows businesses to identify states with longer average account lengths, which may indicate higher customer loyalty or satisfaction.\n",
        "* Understanding regional variations in account length can help businesses tailor their marketing strategies and customer engagement initiatives to specific geographic areas.\n",
        "* States with shorter average account lengths may require targeted efforts to improve customer retention and satisfaction."
      ],
      "metadata": {
        "id": "aL91Mbc5Tw75"
      }
    },
    {
      "cell_type": "markdown",
      "source": [
        "##### 3. Will the gained insights help creating a positive business impact?\n",
        "Are there any insights that lead to negative growth? Justify with specific reason."
      ],
      "metadata": {
        "id": "rZQrAtfrTw76"
      }
    },
    {
      "cell_type": "markdown",
      "source": [
        "Answer Here\n",
        "\n",
        "**Positive Impact:**\n",
        "\n",
        "* By analyzing average account lengths across states, businesses can optimize resource allocation and tailor their services to meet the needs of customers in different regions.\n",
        "* Targeted marketing campaigns and personalized offerings based on regional preferences can enhance customer satisfaction and loyalty, ultimately driving positive business outcomes.\n",
        "\n",
        "**Negative Growth:**\n",
        "\n",
        "* Ignoring regional variations in account length may lead to ineffective marketing strategies and customer engagement initiatives, resulting in lower customer retention rates and negative business impact.\n",
        "* Failure to address disparities in account length across states could result in missed opportunities for growth and revenue generation."
      ],
      "metadata": {
        "id": "wOodyTfqTw76"
      }
    },
    {
      "cell_type": "markdown",
      "source": [
        "#### Chart - 14"
      ],
      "metadata": {
        "id": "JIXHlN9NSYEK"
      }
    },
    {
      "cell_type": "code",
      "source": [
        "# Chart - 14 visualization code\n",
        "\n",
        "# Plotting\n",
        "plt.figure(figsize=(15, 5))\n",
        "plot = sns.barplot(x='State', y='% International Plan', data=avg_intl_plan_per_state, palette='viridis')\n",
        "plt.title('AVERAGE INTERNATIONAL PLAN PER STATE')\n",
        "plt.xlabel('State')\n",
        "plt.ylabel('% International Plan')\n",
        "plt.xticks(rotation=90)\n",
        "plt.show()\n",
        "\n",
        "# Plotting\n",
        "plt.figure(figsize=(15, 5))\n",
        "plot = sns.barplot(x='State', y='% Voice mail Plan', data=avg_vmail_plan_per_state, palette='viridis')\n",
        "plt.title('AVERAGE VOICE MAIL PLAN PER STATE')\n",
        "plt.xlabel('State')\n",
        "plt.ylabel('% Voice mail Plan')\n",
        "plt.xticks(rotation=90)\n",
        "plt.show()"
      ],
      "metadata": {
        "id": "DQhlRsS0SYEW"
      },
      "execution_count": null,
      "outputs": []
    },
    {
      "cell_type": "markdown",
      "source": [
        "##### 1. Why did you pick the specific chart?"
      ],
      "metadata": {
        "id": "SsmA44gZSYEX"
      }
    },
    {
      "cell_type": "markdown",
      "source": [
        "Answer Here.\n",
        "\n",
        "I chose bar plots to visualize the average percentage of customers subscribed to international plans and voice mail plans per state because they effectively compare proportions across different categories (states) while providing clear insights into the distribution of subscription services. Bar plots are suitable for displaying categorical data and are particularly useful when comparing values across multiple groups, making them ideal for this analysis. Additionally, by arranging the states along the x-axis, these plots facilitate easy comparison and identification of trends or patterns across different regions."
      ],
      "metadata": {
        "id": "5di0XIzPSYEX"
      }
    },
    {
      "cell_type": "markdown",
      "source": [
        "##### 2. What is/are the insight(s) found from the chart?"
      ],
      "metadata": {
        "id": "jffbNMHhSYEX"
      }
    },
    {
      "cell_type": "markdown",
      "source": [
        "Answer Here\n",
        "\n",
        "\n",
        "From the bar plots showing the average percentage of customers subscribed to international plans and voice mail plans per state, several insights can be observed:\n",
        "\n",
        "* **Variation in Subscription Rates:** There is significant variability in the adoption of international plans and voice mail plans across different states, as indicated by the varying heights of the bars.\n",
        "\n",
        "* **High and Low Adoption:** Some states exhibit high average subscription rates for both international plans and voice mail plans, while others have lower adoption rates.\n",
        "\n",
        "* **Regional Trends:** Certain regions may show consistent patterns of subscription behavior, with neighboring states often displaying similar levels of subscription to these plans.\n",
        "\n",
        "* **Market Potential:** States with lower average subscription rates present opportunities for targeted marketing efforts to increase adoption of these plans and capture additional revenue."
      ],
      "metadata": {
        "id": "VBPgPjsfSYEX"
      }
    },
    {
      "cell_type": "markdown",
      "source": [
        "##### 3. Will the gained insights help creating a positive business impact?\n",
        "Are there any insights that lead to negative growth? Justify with specific reason."
      ],
      "metadata": {
        "id": "KL2tSEEkSYEY"
      }
    },
    {
      "cell_type": "markdown",
      "source": [
        "Answer Here\n",
        "\n",
        "* Insights from the analysis of average international plan and voice mail plan per state provide valuable information about regional preferences and adoption rates.\n",
        "* Understanding these preferences can guide targeted marketing efforts and resource allocation strategies.\n",
        "States with high average international plan adoption may indicate opportunities for upselling or premium service offerings.\n",
        "* Conversely, regions with low voice mail plan adoption may require tailored marketing campaigns to increase awareness and incentivize usage.\n",
        "* Overall, leveraging these insights can enhance customer engagement, drive subscription growth, and positively impact business revenue"
      ],
      "metadata": {
        "id": "z13KRbW6SYEY"
      }
    },
    {
      "cell_type": "markdown",
      "source": [
        "#### Chart - 15"
      ],
      "metadata": {
        "id": "ToCUpHiyV6q2"
      }
    },
    {
      "cell_type": "code",
      "source": [
        "# Chart - 15 visualization code\n",
        "\n",
        "plt.figure(figsize=(15, 5))\n",
        "# Heatmap for International plan v/s International calls\n",
        "plt.subplot(1, 3, 1)\n",
        "sns.heatmap(cross_tab.iloc[:-1, :-1], annot=True, cmap='YlGnBu', fmt=\"d\", linewidths=0.5, cbar=False,\n",
        "            square=True, annot_kws={\"fontsize\": 12}, linewidth=1, linecolor='black')\n",
        "plt.title('INTERNATIONAL CALLS V/S INTERNATIONAL PLAN')\n",
        "plt.xlabel('International Plan')\n",
        "plt.ylabel('International Calls')\n",
        "\n",
        "# Countplot for international plan distribution\n",
        "plt.subplot(1, 3, 2)\n",
        "sns.countplot(x='Total intl calls', hue='International plan', data=df, palette='pastel')\n",
        "plt.title('INTERNATIONAL CALLS V/S INTERNATIONAL PLAN')\n",
        "plt.xlabel('International Calls')\n",
        "plt.ylabel('Customers')\n",
        "plt.legend(title='International Plan', loc='upper right')\n",
        "\n",
        "# Barplot for international plan v/s International chrages\n",
        "plt.subplot(1, 3, 3)\n",
        "plot = sns.barplot(x='International Plan', y='Mean Intl Charge', data=intl_charges_summary, palette='Pastel1')\n",
        "plt.title('INTERNATIONAL PLAN V/S CHARGE')\n",
        "plt.xlabel('International Plan')\n",
        "plt.ylabel('Mean Charge')\n",
        "# Add counts on top of the bars\n",
        "for p in plot.patches:\n",
        "    plot.annotate(f'{p.get_height():.2f}',\n",
        "                  (p.get_x() + p.get_width() / 2., p.get_height()),\n",
        "                  ha='center', va='center', xytext=(0, 10), textcoords='offset points')\n",
        "# Increase y-axis limit to accommodate counts\n",
        "plt.ylim(0, intl_charges_summary['Mean Intl Charge'].max() + 0.25)\n",
        "# Adjust layout\n",
        "plt.tight_layout()\n",
        "plt.show()"
      ],
      "metadata": {
        "id": "laGBnAI-V6rC"
      },
      "execution_count": null,
      "outputs": []
    },
    {
      "cell_type": "markdown",
      "source": [
        "##### 1. Why did you pick the specific chart?"
      ],
      "metadata": {
        "id": "cxqWDpNyV6rD"
      }
    },
    {
      "cell_type": "markdown",
      "source": [
        "Answer Here.\n",
        "\n",
        "\n",
        "The specific charts were chosen to provide a comprehensive understanding of the relationship between international calls, the adoption of international plans, and their associated charges:\n",
        "\n",
        "* **Heatmap:** Offers a visual representation of the distribution of international calls across different international plan categories, allowing for easy identification of patterns and trends.\n",
        "Countplot: Shows the distribution of international calls for customers with and without international plans, providing insights into the usage behavior of these two groups.\n",
        "* **Barplot:** Displays the mean international charges for customers with and without international plans, allowing for comparison of the average charges incurred by each group.\n",
        "Together, these visualizations help in understanding how the adoption of international plans affects international call behavior and associated charges among customers."
      ],
      "metadata": {
        "id": "FdSkaSv0V6rD"
      }
    },
    {
      "cell_type": "markdown",
      "source": [
        "##### 2. What is/are the insight(s) found from the chart?"
      ],
      "metadata": {
        "id": "hFRQRBlkV6rD"
      }
    },
    {
      "cell_type": "markdown",
      "source": [
        "Answer Here\n",
        "\n",
        "The insights derived from the charts are as follows:\n",
        "\n",
        "* **Heatmap:** Customers with international plans tend to have higher numbers of international calls compared to those without plans, as indicated by the higher counts in the heatmap's cells corresponding to customers with international plans.\n",
        "* **Countplot:** The countplot reveals that customers with international plans generally make more international calls across different call frequency categories compared to those without plans.\n",
        "* **Barplot:** Customers with international plans incur higher mean international charges compared to those without plans, suggesting that while having an international plan may lead to increased call usage, it also results in higher charges due to the associated plan fees.\n",
        "\n",
        "These insights collectively highlight the relationship between international plan adoption, international call usage, and associated charges, indicating potential implications for pricing strategies and customer segmentation."
      ],
      "metadata": {
        "id": "iPqTUDuVV6rE"
      }
    },
    {
      "cell_type": "markdown",
      "source": [
        "##### 3. Will the gained insights help creating a positive business impact?\n",
        "Are there any insights that lead to negative growth? Justify with specific reason."
      ],
      "metadata": {
        "id": "TmVU2lyoV6rE"
      }
    },
    {
      "cell_type": "markdown",
      "source": [
        "Answer Here\n",
        "\n",
        "The gained insights can potentially lead to a positive business impact by providing valuable information for decision-making in several areas:\n",
        "\n",
        "* **Customer Segmentation:** Understanding the relationship between international plan adoption and call usage can help in segmenting customers based on their communication needs and preferences. This segmentation allows for targeted marketing strategies and personalized offerings, thereby enhancing customer satisfaction and loyalty.\n",
        "\n",
        "* **Revenue Optimization:** Recognizing that customers with international plans tend to generate higher charges can guide pricing strategies. By adjusting plan rates or introducing tiered pricing models, telecom companies can maximize revenue while ensuring competitiveness in the market.\n",
        "\n",
        "* **Product Development:** Insights into customer behavior and preferences can inform the development of new products or service bundles tailored to specific segments. For example, offering discounted international call packages to customers with moderate call usage can incentivize plan adoption and increase revenue.\n",
        "\n",
        "* **Retention Strategies:** Identifying patterns of churn among customers with and without international plans enables proactive retention efforts. By offering targeted promotions, discounts, or loyalty rewards, telecom providers can mitigate churn risk and strengthen customer retention.\n",
        "\n",
        "While these insights present opportunities for positive business impact, there are potential challenges and risks associated with pricing adjustments or service changes. For instance, increasing plan rates to maximize revenue may lead to customer dissatisfaction or attrition, particularly if competitors offer more attractive alternatives. Additionally, misaligned marketing strategies or inadequate customer support for international services could result in negative customer experiences and further churn. Therefore, careful consideration and testing are essential to balance revenue objectives with customer satisfaction and retention efforts."
      ],
      "metadata": {
        "id": "gTv5LRt8V6rF"
      }
    },
    {
      "cell_type": "markdown",
      "source": [
        "#### Chart - 16"
      ],
      "metadata": {
        "id": "nY_AbCWRWY5A"
      }
    },
    {
      "cell_type": "code",
      "source": [
        "# Chart - 16 visualization code\n",
        "\n",
        "plt.figure(figsize=(15, 5))\n",
        "# Heatmap for Voicemail plan v/s Voicemail messages\n",
        "plt.subplot(1, 2, 1)\n",
        "sns.heatmap(cross_tab_vmail.iloc[:-1, :-1], annot=True, cmap='YlGnBu', fmt=\"d\", linewidths=0.5, cbar=False,\n",
        "            square=True, annot_kws={\"fontsize\": 12}, linewidth=1, linecolor='black')\n",
        "plt.title('VOICEMAIL MESSAGES V/S VOICEMAIL PLAN')\n",
        "plt.xlabel('Voicemail Plan')\n",
        "plt.ylabel('Voicemail Messages')\n",
        "\n",
        "# Plotting\n",
        "plt.subplot(1, 2, 2)\n",
        "plot = sns.barplot(x='Voice mail Plan', y='Voice mail Messages', data=voicemail_summary, palette='Set2')\n",
        "plt.title('VOICEMAIL PLAN V/S VOICEMAIL MESSAGES')\n",
        "plt.xlabel('Voicemail Plan')\n",
        "plt.ylabel('Voicemail Messages')\n",
        "\n",
        "# Add counts on top of the bars\n",
        "for p in plot.patches:\n",
        "    plot.annotate(f'{p.get_height():.2f}',\n",
        "                  (p.get_x() + p.get_width() / 2., p.get_height()),\n",
        "                  ha='center', va='center', xytext=(0, 10), textcoords='offset points')\n",
        "# Increase y-axis limit to accommodate counts\n",
        "plt.ylim(0, voicemail_summary['Voice mail Messages'].max() + 5)\n",
        "# Adjust layout\n",
        "plt.tight_layout()\n",
        "plt.show()"
      ],
      "metadata": {
        "id": "ZFG-MaCpWY5j"
      },
      "execution_count": null,
      "outputs": []
    },
    {
      "cell_type": "markdown",
      "source": [
        "##### 1. Why did you pick the specific chart?"
      ],
      "metadata": {
        "id": "c0MgkBoqWY5j"
      }
    },
    {
      "cell_type": "markdown",
      "source": [
        "Answer Here.\n",
        "\n",
        "I chose the heatmap and bar plot combination to provide a comprehensive exploration of the relationship between voicemail plan adoption and voicemail message usage. Here's why:\n",
        "\n",
        "* **Heatmap:** Heatmaps are effective for visualizing the distribution and relationship between two categorical variables. In this case, it allows us to observe how voicemail messages are distributed across different voicemail plan categories. It provides a quick overview of any patterns or trends in plan adoption and message usage.\n",
        "\n",
        "* **Bar Plot:** Bar plots are useful for comparing the average or total values of a numerical variable across different categories of a categorical variable. Here, the bar plot compares the average number of voicemail messages for each voicemail plan category. It allows for a more detailed analysis of message usage within each plan category and facilitates comparison between plan adopters and non-adopters.\n",
        "\n",
        "By combining these two visualizations, we can gain insights into both the overall distribution of voicemail messages across plan categories and the average message volume for each category. This dual approach provides a comprehensive understanding of how plan adoption relates to message usage, helping to identify any disparities or trends that may exist."
      ],
      "metadata": {
        "id": "8-4Ov3g5WY5j"
      }
    },
    {
      "cell_type": "markdown",
      "source": [
        "##### 2. What is/are the insight(s) found from the chart?"
      ],
      "metadata": {
        "id": "cizWjENUWY5k"
      }
    },
    {
      "cell_type": "markdown",
      "source": [
        "Answer Here\n",
        "\n",
        "* The heatmap shows that customers with voicemail plans tend to have higher voicemail message counts compared to those without plans. This suggests that having a voicemail plan is associated with higher usage of voicemail services.\n",
        "\n",
        "* Within the voicemail plan category, the bar plot indicates that customers with voicemail plans generally have a higher average number of voicemail messages compared to those without plans. This reaffirms the insight from the heatmap and provides a more quantitative comparison of message usage between plan adopters and non-adopters.\n",
        "\n",
        "Overall, these insights suggest a positive relationship between voicemail plan adoption and voicemail message usage, indicating that offering and promoting voicemail plans could potentially lead to increased engagement with voicemail services among customers.\n",
        "\n",
        "\n",
        "\n",
        "\n",
        "\n"
      ],
      "metadata": {
        "id": "D3JgNWufWY5k"
      }
    },
    {
      "cell_type": "markdown",
      "source": [
        "##### 3. Will the gained insights help creating a positive business impact?\n",
        "Are there any insights that lead to negative growth? Justify with specific reason."
      ],
      "metadata": {
        "id": "rZgc80kjWY5k"
      }
    },
    {
      "cell_type": "markdown",
      "source": [
        "Answer Here\n",
        "\n",
        "* **Positive Impact:** By understanding that customers with voicemail plans tend to use voicemail services more extensively, the business can tailor marketing strategies to promote voicemail plans to customers who may benefit from them. This targeted approach can lead to increased adoption of voicemail plans, resulting in higher customer satisfaction and potentially higher revenue from plan subscriptions.\n",
        "\n",
        "* **Negative Growth:** There are no insights suggesting negative growth in this analysis. However, if the business were to ignore the positive association between voicemail plan adoption and voicemail message usage, it might miss an opportunity to capitalize on this correlation. Failure to promote voicemail plans effectively could lead to stagnation or lower adoption rates, potentially resulting in missed revenue opportunities and reduced customer engagement with voicemail services. Therefore, leveraging the insights to develop targeted marketing campaigns can help mitigate the risk of negative growth."
      ],
      "metadata": {
        "id": "XMR16URRWY5k"
      }
    },
    {
      "cell_type": "markdown",
      "source": [
        "#### Chart - 17"
      ],
      "metadata": {
        "id": "LrwJuvHGWZ2w"
      }
    },
    {
      "cell_type": "code",
      "source": [
        "# Chart - 17 visualization code\n",
        "\n",
        "# Create a heatmap\n",
        "plt.figure(figsize=(6, 4))\n",
        "sns.heatmap(heatmap_data, annot=True, fmt='d', cmap='YlGnBu', cbar_kws={'label': 'Count'})\n",
        "plt.title('VOICEMAIL PLAN V/S INTERNATIONAL PLAN')\n",
        "plt.xlabel('International Plan')\n",
        "plt.ylabel('Voicemail Plan')\n",
        "plt.show()\n",
        "\n",
        "# Plot treemaps\n",
        "fig = px.treemap(voicemail_intl_churn_summary,\n",
        "                 path=['Churn', 'International plan', 'Voice mail plan'],\n",
        "                 values='Count',\n",
        "                 color='Count',\n",
        "                 color_continuous_scale='Viridis',\n",
        "                 title='VOICEMAIL PLAN, INTERNATIONAL PLAN & CHURN',\n",
        "                 labels={'Count': 'Number of Customers'},\n",
        "                 hover_data=['Churn'])\n",
        "fig.show()"
      ],
      "metadata": {
        "id": "tUTCA_jiWZ27"
      },
      "execution_count": null,
      "outputs": []
    },
    {
      "cell_type": "markdown",
      "source": [
        "##### 1. Why did you pick the specific chart?"
      ],
      "metadata": {
        "id": "qf7eagaTWZ27"
      }
    },
    {
      "cell_type": "markdown",
      "source": [
        "Answer Here.\n",
        "\n",
        "I chose the heatmap and treemaps because they are effective in visualizing the relationship between multiple categorical variables (voicemail plan, international plan, and churn) simultaneously. Heatmaps are useful for displaying tabular data with color-coded cells, making it easy to identify patterns and trends. Treemaps, on the other hand, provide a hierarchical view of the data, allowing for a deeper understanding of how different categories contribute to overall distributions. Together, these visualizations offer complementary insights into the relationships between the variables, making them suitable for exploratory data analysis and communication of findings."
      ],
      "metadata": {
        "id": "W1R3Cx9TWZ27"
      }
    },
    {
      "cell_type": "markdown",
      "source": [
        "##### 2. What is/are the insight(s) found from the chart?"
      ],
      "metadata": {
        "id": "X9l2-JVYWZ27"
      }
    },
    {
      "cell_type": "markdown",
      "source": [
        "Answer Here\n",
        "\n",
        "* **Voicemail Plan vs. International Plan:**\n",
        "Customers without an international plan tend to have a higher likelihood of having a voicemail plan.\n",
        "Conversely, customers with an international plan are less likely to have a voicemail plan.\n",
        "* **Churn Analysis:**\n",
        "Among customers who churned, a significant portion did not have an international plan or voicemail plan.\n",
        "Customers with both international and voicemail plans exhibit lower churn rates compared to those without these plans.\n",
        "\n",
        "These insights suggest a potential correlation between the presence of certain service plans (international and voicemail) and customer churn behavior. Additionally, it highlights the importance of these plans in customer retention strategies."
      ],
      "metadata": {
        "id": "RnSt_6zcWZ28"
      }
    },
    {
      "cell_type": "markdown",
      "source": [
        "##### 3. Will the gained insights help creating a positive business impact?\n",
        "Are there any insights that lead to negative growth? Justify with specific reason."
      ],
      "metadata": {
        "id": "n6bb_6OEWZ28"
      }
    },
    {
      "cell_type": "markdown",
      "source": [
        "Answer Here\n",
        "\n",
        "**Positive Impact:**\n",
        "\n",
        "* Tailoring promotions or incentives to encourage customers to adopt both international and voicemail plans could potentially decrease churn rates.\n",
        "* Enhancing the value proposition of these plans through additional features or discounts may attract more customers and increase overall satisfaction and loyalty.\n",
        "\n",
        "**Negative Growth Potential:**\n",
        "\n",
        "* Offering standalone plans without considering customers' preferences or usage patterns may lead to negative growth. For example, promoting international plans to customers who primarily use domestic services might result in increased churn if the plan doesn't align with their needs or preferences.\n",
        "* Over-reliance on one type of plan (e.g., international plan) while neglecting others (e.g., voicemail plan) could lead to imbalanced growth and customer dissatisfaction among certain segments.\n",
        "\n",
        "Therefore, it's essential to leverage these insights to develop targeted marketing strategies and service offerings that align with customers' preferences and needs, ultimately driving positive business outcomes while mitigating the risk of negative growth."
      ],
      "metadata": {
        "id": "kK9nM_JrWZ28"
      }
    },
    {
      "cell_type": "markdown",
      "source": [
        "#### Chart - 18"
      ],
      "metadata": {
        "id": "WTEXngfqWdRh"
      }
    },
    {
      "cell_type": "code",
      "source": [
        "# Chart - 18 visualization code\n",
        "\n",
        "# Plot Service Call versus Churn\n",
        "plt.figure(figsize=(10, 6))\n",
        "plot = sns.barplot(x='Customer service calls', y='Churn Percentage', data=service_churn_pivot.reset_index(), color='skyblue')\n",
        "plt.title('CUSTOMER SERVICE CALL V/S CHURN %')\n",
        "plt.xlabel('Customer Service Calls')\n",
        "plt.ylabel('Churn Percentage')\n",
        "# Add values on top of the bars\n",
        "for p in plot.patches:\n",
        "    plot.annotate(f'{p.get_height():.2f}%', (p.get_x() + p.get_width() / 2., p.get_height()),\n",
        "                   ha='center', va='center', xytext=(0, 10), textcoords='offset points')\n",
        "# Increase y-axis limit to accommodate counts\n",
        "plt.ylim(0, service_churn_pivot['Churn Percentage'].max() + 10)\n",
        "plt.show()"
      ],
      "metadata": {
        "id": "EYzG73pfWdRz"
      },
      "execution_count": null,
      "outputs": []
    },
    {
      "cell_type": "markdown",
      "source": [
        "##### 1. Why did you pick the specific chart?"
      ],
      "metadata": {
        "id": "d2QmMECiWdRz"
      }
    },
    {
      "cell_type": "markdown",
      "source": [
        "Answer Here.\n",
        "\n",
        "I selected the bar plot to illustrate the relationship between the number of customer service calls and the churn percentage for the following reasons:\n",
        "\n",
        "* **Comparison:** The bar plot allows for easy comparison of churn percentages across different numbers of customer service calls.\n",
        "* **Clear Visualization:** It provides a clear visual representation of the relationship between the variables, making it easy to interpret.\n",
        "* **Annotative Values:** Adding percentages on top of the bars enhances readability and aids in understanding the churn rates associated with each category of customer service calls.\n",
        "* **Suitability:** A bar plot is suitable for visualizing the relationship between a continuous variable (number of customer service calls) and a categorical variable (churn percentage).\n",
        "\n",
        "Overall, the bar plot effectively communicates the association between customer service calls and churn, making it a suitable choice for this analysis."
      ],
      "metadata": {
        "id": "jFpTSiz3WdR0"
      }
    },
    {
      "cell_type": "markdown",
      "source": [
        "##### 2. What is/are the insight(s) found from the chart?"
      ],
      "metadata": {
        "id": "7d867KO_WdR0"
      }
    },
    {
      "cell_type": "markdown",
      "source": [
        "Answer Here\n",
        "\n",
        "* Customers with a higher number of service calls tend to have a higher churn rate.\n",
        "* There is a noticeable increase in churn percentage as the number of customer service calls increases.\n",
        "* The churn percentage is relatively low for customers with fewer service calls but gradually rises as the number of calls increases.\n",
        "* This suggests that customers who require frequent assistance from customer service might be experiencing issues or dissatisfaction, leading to a higher likelihood of churn."
      ],
      "metadata": {
        "id": "C5uqe63vWdR0"
      }
    },
    {
      "cell_type": "markdown",
      "source": [
        "##### 3. Will the gained insights help creating a positive business impact?\n",
        "Are there any insights that lead to negative growth? Justify with specific reason."
      ],
      "metadata": {
        "id": "4Gf_rxrGWdR0"
      }
    },
    {
      "cell_type": "markdown",
      "source": [
        "Answer Here\n",
        "\n",
        "* Insights from the chart suggest a correlation between the number of customer service calls and churn percentage.\n",
        "* Higher churn percentages are observed among customers with a higher number of service calls.\n",
        "* Addressing issues leading to frequent service calls could potentially reduce churn rates.\n",
        "* Proactive measures to improve customer service quality may positively impact customer retention and overall business growth.\n",
        "* Ignoring the correlation between service calls and churn may lead to negative growth due to increased customer dissatisfaction and higher churn rates."
      ],
      "metadata": {
        "id": "tjaMndF3WdR1"
      }
    },
    {
      "cell_type": "markdown",
      "source": [
        "#### Chart - 19"
      ],
      "metadata": {
        "id": "27fY0D9KWeyQ"
      }
    },
    {
      "cell_type": "code",
      "source": [
        "# Chart - 18 visualization code\n",
        "\n",
        "# Minutes\n",
        "plt.figure(figsize=(15, 100))\n",
        "# Bar plot for top 5 states Day\n",
        "plt.subplot(24, 4, 1)\n",
        "sns.barplot(x='State', y='Average Day Minutes', data=top_5_states_day_minutes, palette='Blues')\n",
        "plt.title('Top 5 States based on \\nAverage Day Minutes')\n",
        "plt.xlabel('State')\n",
        "plt.ylabel('Average Day Minutes')\n",
        "# Bar plot for top 5 states eve\n",
        "plt.subplot(24, 4, 2)\n",
        "sns.barplot(x='State', y='Average eve Minutes', data=top_5_states_eve_minutes, palette='Blues')\n",
        "plt.title('Top 5 States based on \\nAverage Evening Minutes')\n",
        "plt.xlabel('State')\n",
        "plt.ylabel('Average Evening Minutes')\n",
        "# Bar plot for top 5 states night\n",
        "plt.subplot(24, 4, 3)\n",
        "sns.barplot(x='State', y='Average night Minutes', data=top_5_states_night_minutes, palette='Blues')\n",
        "plt.title('Top 5 States based on \\nAverage Night Minutes')\n",
        "plt.xlabel('State')\n",
        "plt.ylabel('Average Night Minutes')\n",
        "# Bar plot for top 5 states intl\n",
        "plt.subplot(24, 4, 4)\n",
        "sns.barplot(x='State', y='Average intl Minutes', data=top_5_states_intl_minutes, palette='Blues')\n",
        "plt.title('Top 5 States based on \\nAverage International Minutes')\n",
        "plt.xlabel('State')\n",
        "plt.ylabel('Average International Minutes')\n",
        "\n",
        "# Calls\n",
        "# Bar plot for top 5 states Day\n",
        "plt.subplot(24, 4, 5)\n",
        "sns.barplot(x='State', y='Average Day Calls', data=top_5_states_day_calls, palette='Blues')\n",
        "plt.title('Top 5 States based on \\nAverage Day Calls')\n",
        "plt.xlabel('State')\n",
        "plt.ylabel('Average Day Calls')\n",
        "# Bar plot for top 5 states eve\n",
        "plt.subplot(24, 4, 6)\n",
        "sns.barplot(x='State', y='Average eve Calls', data=top_5_states_eve_calls, palette='Blues')\n",
        "plt.title('Top 5 States based on \\nAverage Evening Calls')\n",
        "plt.xlabel('State')\n",
        "plt.ylabel('Average Evening Calls')\n",
        "# Bar plot for top 5 states night\n",
        "plt.subplot(24, 4, 7)\n",
        "sns.barplot(x='State', y='Average night Calls', data=top_5_states_night_calls, palette='Blues')\n",
        "plt.title('Top 5 States based on \\nAverage Night Calls')\n",
        "plt.xlabel('State')\n",
        "plt.ylabel('Average Night Calls')\n",
        "# Bar plot for top 5 states intl\n",
        "plt.subplot(24, 4, 8)\n",
        "sns.barplot(x='State', y='Average intl Calls', data=top_5_states_intl_calls, palette='Blues')\n",
        "plt.title('Top 5 States based on \\nAverage International Calls')\n",
        "plt.xlabel('State')\n",
        "plt.ylabel('Average International Calls')\n",
        "\n",
        "# Charge\n",
        "# Bar plot for top 5 states Day\n",
        "plt.subplot(24, 4, 9)\n",
        "sns.barplot(x='State', y='Average Day Charge', data=top_5_states_day_charge, palette='Blues')\n",
        "plt.title('Top 5 States based on \\nAverage Day Charge')\n",
        "plt.xlabel('State')\n",
        "plt.ylabel('Average Day Charge')\n",
        "# Bar plot for top 5 states eve\n",
        "plt.subplot(24, 4, 10)\n",
        "sns.barplot(x='State', y='Average eve Charge', data=top_5_states_eve_charge, palette='Blues')\n",
        "plt.title('Top 5 States based on \\nAverage Evening Charge')\n",
        "plt.xlabel('State')\n",
        "plt.ylabel('Average Evening Charge')\n",
        "# Bar plot for top 5 states night\n",
        "plt.subplot(24, 4, 11)\n",
        "sns.barplot(x='State', y='Average night Charge', data=top_5_states_night_charge, palette='Blues')\n",
        "plt.title('Top 5 States based on \\nAverage Night Charge')\n",
        "plt.xlabel('State')\n",
        "plt.ylabel('Average Night Charge')\n",
        "# Bar plot for top 5 states intl\n",
        "plt.subplot(24, 4, 12)\n",
        "sns.barplot(x='State', y='Average intl Charge', data=top_5_states_intl_charge, palette='Blues')\n",
        "plt.title('Top 5 States based on \\nAverage International Charge')\n",
        "plt.xlabel('State')\n",
        "plt.ylabel('Average International Charge')\n",
        "\n",
        "\n",
        "# Minutes\n",
        "# Bar plot for bottom 5 states Day\n",
        "plt.subplot(24, 4, 13)\n",
        "sns.barplot(x='State', y='Average Day Minutes', data=bottom_5_states_day_minutes, palette='Reds')\n",
        "plt.title('Bottom 5 States based on \\nAverage Day Minutes')\n",
        "plt.xlabel('State')\n",
        "plt.ylabel('Average Day Minutes')\n",
        "# Bar plot for bottom 5 states eve\n",
        "plt.subplot(24, 4, 14)\n",
        "sns.barplot(x='State', y='Average eve Minutes', data=bottom_5_states_eve_minutes, palette='Reds')\n",
        "plt.title('Bottom 5 States based on \\nAverage Evening Minutes')\n",
        "plt.xlabel('State')\n",
        "plt.ylabel('Average Evening Minutes')\n",
        "# Bar plot for bottom 5 states night\n",
        "plt.subplot(24, 4, 15)\n",
        "sns.barplot(x='State', y='Average night Minutes', data=bottom_5_states_night_minutes, palette='Reds')\n",
        "plt.title('Bottom 5 States based on \\nAverage Night Minutes')\n",
        "plt.xlabel('State')\n",
        "plt.ylabel('Average Night Minutes')\n",
        "# Bar plot for bottom 5 states intl\n",
        "plt.subplot(24, 4, 16)\n",
        "sns.barplot(x='State', y='Average intl Minutes', data=bottom_5_states_intl_minutes, palette='Reds')\n",
        "plt.title('Bottom 5 States based on \\nAverage International Minutes')\n",
        "plt.xlabel('State')\n",
        "plt.ylabel('Average International Minutes')\n",
        "\n",
        "# Calls\n",
        "# Bar plot for bottom 5 states Day\n",
        "plt.subplot(24, 4, 17)\n",
        "sns.barplot(x='State', y='Average Day Calls', data=bottom_5_states_day_calls, palette='Reds')\n",
        "plt.title('Bottom 5 States based on \\nAverage Day Calls')\n",
        "plt.xlabel('State')\n",
        "plt.ylabel('Average Day Calls')\n",
        "# Bar plot for bottom 5 states eve\n",
        "plt.subplot(24, 4, 18)\n",
        "sns.barplot(x='State', y='Average eve Calls', data=bottom_5_states_eve_calls, palette='Reds')\n",
        "plt.title('Bottom 5 States based on \\nAverage Evening Calls')\n",
        "plt.xlabel('State')\n",
        "plt.ylabel('Average Evening Calls')\n",
        "# Bar plot for bottom 5 states night\n",
        "plt.subplot(24, 4, 19)\n",
        "sns.barplot(x='State', y='Average night Calls', data=bottom_5_states_night_calls, palette='Reds')\n",
        "plt.title('Bottom 5 States based on \\nAverage Night Calls')\n",
        "plt.xlabel('State')\n",
        "plt.ylabel('Average Night Calls')\n",
        "# Bar plot for bottom 5 states intl\n",
        "plt.subplot(24, 4, 20)\n",
        "sns.barplot(x='State', y='Average intl Calls', data=bottom_5_states_intl_calls, palette='Reds')\n",
        "plt.title('Bottom 5 States based on \\nAverage International Calls')\n",
        "plt.xlabel('State')\n",
        "plt.ylabel('Average International Calls')\n",
        "\n",
        "# Charge\n",
        "# Bar plot for bottom 5 states Day\n",
        "plt.subplot(24, 4, 21)\n",
        "sns.barplot(x='State', y='Average Day Charge', data=bottom_5_states_day_charge, palette='Reds')\n",
        "plt.title('Bottom 5 States based on \\nAverage Day Charge')\n",
        "plt.xlabel('State')\n",
        "plt.ylabel('Average Day Charge')\n",
        "# Bar plot for bottom 5 states eve\n",
        "plt.subplot(24, 4, 22)\n",
        "sns.barplot(x='State', y='Average eve Charge', data=bottom_5_states_eve_charge, palette='Reds')\n",
        "plt.title('Bottom 5 States based on \\nAverage Evening Charge')\n",
        "plt.xlabel('State')\n",
        "plt.ylabel('Average Evening Charge')\n",
        "# Bar plot for bottom 5 states night\n",
        "plt.subplot(24, 4, 23)\n",
        "sns.barplot(x='State', y='Average night Charge', data=bottom_5_states_night_charge, palette='Reds')\n",
        "plt.title('Bottom 5 States based on \\nAverage Night Charge')\n",
        "plt.xlabel('State')\n",
        "plt.ylabel('Average Night Charge')\n",
        "# Bar plot for bottom 5 states intl\n",
        "plt.subplot(24, 4, 24)\n",
        "sns.barplot(x='State', y='Average intl Charge', data=bottom_5_states_intl_charge, palette='Reds')\n",
        "plt.title('Bottom 5 States based on \\nAverage International Charge')\n",
        "plt.xlabel('State')\n",
        "plt.ylabel('Average International Charge')\n",
        "\n",
        "# Adjust layout\n",
        "plt.tight_layout()\n",
        "plt.show()"
      ],
      "metadata": {
        "id": "QkvzAtetWeyr"
      },
      "execution_count": null,
      "outputs": []
    },
    {
      "cell_type": "markdown",
      "source": [
        "##### 1. Why did you pick the specific chart?"
      ],
      "metadata": {
        "id": "UBt6k-S0Weyr"
      }
    },
    {
      "cell_type": "markdown",
      "source": [
        "Answer Here.\n",
        "\n",
        "The specific charts were chosen to compare the average minutes, calls, and charges across different states, focusing on the top 5 and bottom 5 states in each category. This visualization provides a comprehensive understanding of how usage patterns vary geographically."
      ],
      "metadata": {
        "id": "O9bjWJESWeyr"
      }
    },
    {
      "cell_type": "markdown",
      "source": [
        "##### 2. What is/are the insight(s) found from the chart?"
      ],
      "metadata": {
        "id": "1Y9rFStjWeyr"
      }
    },
    {
      "cell_type": "markdown",
      "source": [
        "Answer Here\n",
        "\n",
        "* For each metric (minutes, calls, and charges), there are variations between the top 5 and bottom 5 states, indicating regional differences in usage behavior.\n",
        "* Top-performing states tend to have higher average values for minutes, calls, and charges compared to bottom-performing states.\n",
        "* These insights can inform targeted marketing strategies, service improvements, and resource allocations tailored to specific regions."
      ],
      "metadata": {
        "id": "4vFtfckxWeys"
      }
    },
    {
      "cell_type": "markdown",
      "source": [
        "##### 3. Will the gained insights help creating a positive business impact?\n",
        "Are there any insights that lead to negative growth? Justify with specific reason."
      ],
      "metadata": {
        "id": "Z_7QDJjAWeys"
      }
    },
    {
      "cell_type": "markdown",
      "source": [
        "Answer Here\n",
        "\n",
        "These insights can potentially help in creating a positive business impact by:\n",
        "\n",
        "* Allowing companies to tailor their services and marketing efforts to meet the specific needs and preferences of customers in different regions.\n",
        "* Identifying opportunities for upselling or cross-selling based on usage patterns and preferences.\n",
        "Optimizing network infrastructure and service delivery based on regional demands.\n",
        "\n",
        "Negative growth may occur if these insights are not acted upon or misinterpreted, leading to:\n",
        "\n",
        "* Inefficient resource allocation, where investments are made in regions with low potential for returns.\n",
        "Inadequate service offerings in high-potential regions, resulting in customer dissatisfaction and churn.\n",
        "* Missed opportunities for revenue growth and market expansion due to a lack of understanding of regional preferences and behaviors."
      ],
      "metadata": {
        "id": "3IElBo8oWeys"
      }
    },
    {
      "cell_type": "markdown",
      "source": [
        "#### Chart - 20"
      ],
      "metadata": {
        "id": "RbcZl9dbWhpA"
      }
    },
    {
      "cell_type": "code",
      "source": [
        "# Chart - 20 visualization code\n",
        "\n",
        "# Plotting\n",
        "fig, axes = plt.subplots(nrows=1, ncols=2, figsize=(15, 5))\n",
        "# Top 5 States based on Total Charges\n",
        "sns.barplot(x='Total Charges', y='State', data=top5_states_charges, ax=axes[0], palette='viridis')\n",
        "axes[0].set_title('Top 5 States Based on Total Charges')\n",
        "# Bottom 5 States based on Total Charges\n",
        "sns.barplot(x='Total Charges', y='State', data=bottom5_states_charges, ax=axes[1], palette='viridis')\n",
        "axes[1].set_title('Bottom 5 States Based on Total Charges')\n",
        "plt.tight_layout()\n",
        "plt.show()"
      ],
      "metadata": {
        "id": "AgbrsG_sG_xy"
      },
      "execution_count": null,
      "outputs": []
    },
    {
      "cell_type": "markdown",
      "source": [
        "##### 1. Why did you pick the specific chart?"
      ],
      "metadata": {
        "id": "Opq2-i5FWhpa"
      }
    },
    {
      "cell_type": "markdown",
      "source": [
        "Answer Here.\n",
        "\n",
        "The specific charts were chosen to compare the total charges across different states, focusing on the top 5 and bottom 5 states. This visualization provides insights into the revenue generated from each state, highlighting the highest and lowest performers."
      ],
      "metadata": {
        "id": "0bsrvox1Whpa"
      }
    },
    {
      "cell_type": "markdown",
      "source": [
        "##### 2. What is/are the insight(s) found from the chart?"
      ],
      "metadata": {
        "id": "b230fKCmWhpb"
      }
    },
    {
      "cell_type": "markdown",
      "source": [
        "Answer Here\n",
        "\n",
        "* There are significant differences in total charges between the top 5 and bottom 5 states, indicating varying levels of revenue generation.\n",
        "* Top-performing states contribute more to the total charges, suggesting higher usage or premium services uptake.\n",
        "* Bottom-performing states exhibit lower total charges, indicating potential areas for improvement or untapped market opportunities."
      ],
      "metadata": {
        "id": "Jm_RaVRvWhpb"
      }
    },
    {
      "cell_type": "markdown",
      "source": [
        "##### 3. Will the gained insights help creating a positive business impact?\n",
        "Are there any insights that lead to negative growth? Justify with specific reason."
      ],
      "metadata": {
        "id": "ZAMl38hfWhpb"
      }
    },
    {
      "cell_type": "markdown",
      "source": [
        "Answer Here\n",
        "\n",
        "These insights can potentially help in creating a positive business impact by:\n",
        "\n",
        "* Informing resource allocation and investment decisions, with a focus on high-revenue-generating states for further growth and expansion.\n",
        "* Tailoring marketing and sales strategies to target specific regions based on their contribution to total charges.\n",
        "* Identifying areas for service improvements or promotions to boost revenue in underperforming states.\n",
        "\n",
        "Negative growth may occur if these insights are not acted upon or misinterpreted, leading to:\n",
        "\n",
        "* Missed opportunities for revenue growth and market expansion in high-potential regions.\n",
        "* Inefficient resource allocation, where investments are not aligned with revenue-generating regions.\n",
        "Customer dissatisfaction or churn in underperforming states due to inadequate service offerings or neglect."
      ],
      "metadata": {
        "id": "uHH6wTI6Whpc"
      }
    },
    {
      "cell_type": "markdown",
      "source": [
        "#### Chart - 21"
      ],
      "metadata": {
        "id": "lSaEgz5CWjFg"
      }
    },
    {
      "cell_type": "code",
      "source": [
        "# Chart - 21 visualization code\n",
        "\n",
        "plt.figure(figsize=(15, 4))\n",
        "# Plot mean day charge with churn\n",
        "plt.subplot(1, 4, 1)\n",
        "plot = sns.barplot(x='Churn', y='Total day charge', data=mean_day_charge_churn, palette='viridis')\n",
        "plt.title('Mean Day Charge with Churn')\n",
        "plt.xlabel('Churn')\n",
        "plt.ylabel('Mean Day Charge')\n",
        "# Add values on top of the bars\n",
        "for p in plot.patches:\n",
        "    plot.annotate(f'{p.get_height():.2f}', (p.get_x() + p.get_width() / 2., p.get_height()),\n",
        "                   ha='center', va='center', xytext=(0, 10), textcoords='offset points')\n",
        "# Increase y-axis limit to accommodate counts\n",
        "plt.ylim(0, mean_day_charge_churn['Total day charge'].max() + 5)\n",
        "\n",
        "# Plot mean day charge with churn\n",
        "plt.subplot(1, 4, 2)\n",
        "plot = sns.barplot(x='Churn', y='Total eve charge', data=mean_eve_charge_churn, palette='viridis')\n",
        "plt.title('Mean eve Charge with Churn')\n",
        "plt.xlabel('Churn')\n",
        "plt.ylabel('Mean eve Charge')\n",
        "# Add values on top of the bars\n",
        "for p in plot.patches:\n",
        "    plot.annotate(f'{p.get_height():.2f}', (p.get_x() + p.get_width() / 2., p.get_height()),\n",
        "                   ha='center', va='center', xytext=(0, 10), textcoords='offset points')\n",
        "# Increase y-axis limit to accommodate counts\n",
        "plt.ylim(0, mean_eve_charge_churn['Total eve charge'].max() + 2.5)\n",
        "\n",
        "# Plot mean day charge with churn\n",
        "plt.subplot(1, 4, 3)\n",
        "plot = sns.barplot(x='Churn', y='Total night charge', data=mean_night_charge_churn, palette='viridis')\n",
        "plt.title('Mean night Charge with Churn')\n",
        "plt.xlabel('Churn')\n",
        "plt.ylabel('Mean night Charge')\n",
        "# Add values on top of the bars\n",
        "for p in plot.patches:\n",
        "    plot.annotate(f'{p.get_height():.2f}', (p.get_x() + p.get_width() / 2., p.get_height()),\n",
        "                   ha='center', va='center', xytext=(0, 10), textcoords='offset points')\n",
        "# Increase y-axis limit to accommodate counts\n",
        "plt.ylim(0, mean_night_charge_churn['Total night charge'].max() + 1)\n",
        "\n",
        "# Plot mean day charge with churn\n",
        "plt.subplot(1, 4, 4)\n",
        "plot = sns.barplot(x='Churn', y='Total intl charge', data=mean_intl_charge_churn, palette='viridis')\n",
        "plt.title('Mean intl Charge with Churn')\n",
        "plt.xlabel('Churn')\n",
        "plt.ylabel('Mean intl Charge')\n",
        "# Add values on top of the bars\n",
        "for p in plot.patches:\n",
        "    plot.annotate(f'{p.get_height():.2f}', (p.get_x() + p.get_width() / 2., p.get_height()),\n",
        "                   ha='center', va='center', xytext=(0, 10), textcoords='offset points')\n",
        "# Increase y-axis limit to accommodate counts\n",
        "plt.ylim(0, mean_intl_charge_churn['Total intl charge'].max() + 0.5)\n",
        "\n",
        "plt.tight_layout()\n",
        "plt.show()"
      ],
      "metadata": {
        "id": "Sjjc_OyVWjFs"
      },
      "execution_count": null,
      "outputs": []
    },
    {
      "cell_type": "markdown",
      "source": [
        "##### 1. Why did you pick the specific chart?"
      ],
      "metadata": {
        "id": "7NtbM04sWjFs"
      }
    },
    {
      "cell_type": "markdown",
      "source": [
        "Answer Here.\n",
        "\n",
        "The specific charts were chosen to analyze the mean charges (day, evening, night, and international) with respect to churn status. This visualization aims to uncover any patterns or differences in charges between churned and non-churned customers."
      ],
      "metadata": {
        "id": "jcRKZEAoWjFs"
      }
    },
    {
      "cell_type": "markdown",
      "source": [
        "##### 2. What is/are the insight(s) found from the chart?"
      ],
      "metadata": {
        "id": "AcdVYDYnWjFs"
      }
    },
    {
      "cell_type": "markdown",
      "source": [
        "Answer Here\n",
        "\n",
        "* **Mean day charge**: Churned customers tend to have slightly higher mean day charges compared to non-churned customers. This could indicate dissatisfaction with daytime service or pricing structures.\n",
        "* **Mean evening charge:** Churned customers also exhibit higher mean evening charges, suggesting potential dissatisfaction with evening services or offerings.\n",
        "* **Mean night charge:** There is a slight difference in mean night charges between churned and non-churned customers, with churned customers having marginally higher charges. This might reflect dissatisfaction with nighttime service quality or pricing.\n",
        "* **Mean international charge:** Churned customers have noticeably higher mean international charges compared to non-churned customers. This could indicate dissatisfaction with international calling plans or pricing, leading to churn."
      ],
      "metadata": {
        "id": "xXVSbSnLWjFs"
      }
    },
    {
      "cell_type": "markdown",
      "source": [
        "##### 3. Will the gained insights help creating a positive business impact?\n",
        "Are there any insights that lead to negative growth? Justify with specific reason."
      ],
      "metadata": {
        "id": "KmsXxXL5WjFt"
      }
    },
    {
      "cell_type": "markdown",
      "source": [
        "Answer Here\n",
        "\n",
        "These insights can potentially help in creating a positive business impact by:\n",
        "\n",
        "* Identifying areas for service improvement or pricing optimization to reduce churn among dissatisfied customers.\n",
        "* Tailoring retention strategies or promotional offers to address specific concerns related to service charges.\n",
        "* Developing targeted marketing campaigns to highlight competitive pricing or enhanced service offerings, aiming to retain existing customers and attract new ones.\n",
        "\n",
        "Negative growth may occur if these insights are not addressed, as:\n",
        "\n",
        "* Higher charges for churned customers could lead to increased customer dissatisfaction and higher churn rates.\n",
        "* Failure to address pricing concerns or service quality issues may result in further erosion of customer base and revenue loss.\n",
        "\n",
        "\n",
        "\n",
        "\n"
      ],
      "metadata": {
        "id": "w0ma6Bi5WjFt"
      }
    },
    {
      "cell_type": "markdown",
      "source": [
        "#### Chart - 22 - Correlation Heatmap"
      ],
      "metadata": {
        "id": "NC_X3p0fY2L0"
      }
    },
    {
      "cell_type": "code",
      "source": [
        "# Correlation Heatmap visualization code\n",
        "correlation_matrix = df.corr()\n",
        "# Create a mask for the upper triangle\n",
        "mask = np.triu(np.ones_like(correlation_matrix, dtype=bool))\n",
        "# Set up the matplotlib figure\n",
        "plt.figure(figsize=(12, 10))\n",
        "# Plotting\n",
        "sns.heatmap(correlation_matrix,\n",
        "            mask=mask,\n",
        "            cmap='coolwarm',\n",
        "            vmax=0.1,\n",
        "            center=0,\n",
        "            square=True,\n",
        "            linewidths=.5,\n",
        "            cbar_kws={\"shrink\": 0.8},\n",
        "            annot=True,\n",
        "            fmt=\".2f\"\n",
        "            )\n",
        "plt.title('CORRELATION HEATMAP')\n",
        "plt.show()"
      ],
      "metadata": {
        "id": "xyC9zolEZNRQ"
      },
      "execution_count": null,
      "outputs": []
    },
    {
      "cell_type": "markdown",
      "source": [
        "##### 1. Why did you pick the specific chart?"
      ],
      "metadata": {
        "id": "UV0SzAkaZNRQ"
      }
    },
    {
      "cell_type": "markdown",
      "source": [
        "Answer Here.\n",
        "\n",
        "The correlation heatmap was chosen for its ability to provide a concise yet comprehensive overview of the relationships between numerical features. It presents correlations visually using colors, aiding quick pattern recognition. Efficient space utilization allows simultaneous comparison of multiple variables. Annotations offer precise correlation coefficients for interpretation. By masking redundant information, it maintains clarity. Overall, the heatmap serves as a powerful tool for exploratory data analysis, aiding in the identification of potential relationships and guiding subsequent modeling decisions effectively."
      ],
      "metadata": {
        "id": "DVPuT8LYZNRQ"
      }
    },
    {
      "cell_type": "markdown",
      "source": [
        "##### 2. What is/are the insight(s) found from the chart?"
      ],
      "metadata": {
        "id": "YPEH6qLeZNRQ"
      }
    },
    {
      "cell_type": "markdown",
      "source": [
        "Answer Here\n",
        "\n",
        "* **Strong Positive Correlation:** Certain pairs like \"Total day minutes\" and \"Total day charge\" show a high positive correlation, indicating that as one variable increases, the other tends to increase as well.\n",
        "\n",
        "* **Strong Negative Correlation:** For example, \"Customer service calls\" and \"Churn\" exhibit a notable correlation, suggesting that as the number of customer service calls increases, the likelihood of churn increases.\n",
        "\n",
        "* **Weak or No Correlation:** Some pairs like \"Account length\" and \"Number vmail messages\" show weak or no correlation, implying they may not influence each other significantly.\n",
        "\n",
        "* **Feature Selection Guidance:** Identifying strong correlations can guide feature selection for predictive modeling, focusing on variables that strongly correlate with the target or with each other.\n",
        "\n",
        "* **Multicollinearity Indication:** High correlations between predictors may indicate multicollinearity, which could impact the stability and interpretability of regression models, warranting further investigation or remediation strategies."
      ],
      "metadata": {
        "id": "bfSqtnDqZNRR"
      }
    },
    {
      "cell_type": "markdown",
      "source": [
        "#### Chart - 23 - Pair Plot"
      ],
      "metadata": {
        "id": "q29F0dvdveiT"
      }
    },
    {
      "cell_type": "code",
      "source": [
        "# Pair Plot visualization code\n",
        "features_for_pairplot = ['Number vmail messages','Total day minutes','Total day charge','Total eve minutes','Total eve charge', 'Total night minutes','Total night charge','Total intl minutes','Total intl charge','Customer service calls', 'Churn']\n",
        "\n",
        "# Create pair plot\n",
        "sns.pairplot(df[features_for_pairplot], hue='Churn', palette='bright', markers=[\"o\", \"s\"], diag_kind='kde')\n",
        "\n",
        "plt.suptitle('PAIR PLOT', y=1.02)\n",
        "plt.show()"
      ],
      "metadata": {
        "id": "o58-TEIhveiU"
      },
      "execution_count": null,
      "outputs": []
    },
    {
      "cell_type": "markdown",
      "source": [
        "##### 1. Why did you pick the specific chart?"
      ],
      "metadata": {
        "id": "EXh0U9oCveiU"
      }
    },
    {
      "cell_type": "markdown",
      "source": [
        "Answer Here.\n",
        "\n",
        "The pair plot visualization was chosen because it provides a comprehensive overview of the relationships between multiple variables in the dataset. This type of plot allows for the examination of pairwise interactions between features while also considering their distributions. Additionally, by incorporating hue encoding for the 'Churn' variable, the pair plot enables the visualization of how churn behavior relates to other features, aiding in the identification of potential predictors of churn."
      ],
      "metadata": {
        "id": "eMmPjTByveiU"
      }
    },
    {
      "cell_type": "markdown",
      "source": [
        "##### 2. What is/are the insight(s) found from the chart?"
      ],
      "metadata": {
        "id": "22aHeOlLveiV"
      }
    },
    {
      "cell_type": "markdown",
      "source": [
        "Answer Here\n",
        "\n",
        "Diagonal Plots (Kernel Density Estimation):\n",
        "\n",
        "* **Number of Voicemail Messages:** The distribution shows that most customers do not use voicemail, with a few having moderate usage.\n",
        "* **Total Day, Evening, Night, and International Minutes:** These features exhibit bimodal distributions, indicating the presence of distinct groups of customers with different usage patterns. For example, there are clusters of customers with both high and low usage in each time category.\n",
        "* **Total Day, Evening, Night, and International Charges:** Similar to minute distributions, charge distributions also show bimodal patterns, suggesting different pricing structures or plans for customers.\n",
        "* **Customer Service Calls:** Most customers make fewer than three service calls, with a small proportion making more, indicating potential dissatisfaction or issues requiring support.\n",
        "\n",
        "Off-Diagonal Plots (Scatter Plots):\n",
        "\n",
        "* Scatter plots between features reveal potential relationships. For instance:\n",
        " - There seems to be a positive correlation between the number of voicemail messages and the total number of calls in different time categories, suggesting that customers who use voicemail might also engage in more calling activity.\n",
        " - There might be a positive correlation between total minutes and charges, indicating that customers with higher usage also incur higher charges.\n",
        " - There could be relationships between customer service calls and total charges or minutes, indicating that dissatisfaction or issues might lead to increased usage or charges.\n",
        "\n",
        "Churn Comparison:\n",
        "\n",
        "* By using different markers or colors for churned and non-churned customers, the pair plot allows us to observe how churn relates to different feature combinations. This can help identify patterns specific to churned customers, such as clusters or outliers in certain regions of the plot, which may indicate factors contributing to churn."
      ],
      "metadata": {
        "id": "uPQ8RGwHveiV"
      }
    },
    {
      "cell_type": "markdown",
      "source": [
        "## **5. Solution to Business Objective**"
      ],
      "metadata": {
        "id": "JcMwzZxoAimU"
      }
    },
    {
      "cell_type": "markdown",
      "source": [
        "#### What do you suggest the client to achieve Business Objective ?\n",
        "Explain Briefly."
      ],
      "metadata": {
        "id": "8G2x9gOozGDZ"
      }
    },
    {
      "cell_type": "markdown",
      "source": [
        "Answer Here.\n",
        "\n",
        "* **Customer Service Optimization:** Since there is a correlation between the number of customer service calls and churn, it's crucial to focus on improving the customer service experience. The client can invest in training their customer service representatives to handle issues efficiently, reducing the need for multiple calls and improving overall customer satisfaction.\n",
        "\n",
        "* **Product Offering Enhancement:** Identify features or services that are underutilized or show low correlation with customer retention, such as voicemail services. The client can consider either enhancing these features to make them more appealing to customers or reallocating resources towards more popular services that contribute to higher customer satisfaction and lower churn rates.\n",
        "\n",
        "* **Segmented Marketing Campaigns:** Utilize the findings from the pair plot analysis to create segmented marketing campaigns tailored to different customer groups. For instance, customers with high usage patterns could receive targeted offers for premium services or loyalty rewards, while those with low usage could be incentivized to explore additional features through personalized promotions.\n",
        "\n",
        "* **Predictive Analytics for Churn Prediction:** Implement predictive analytics models leveraging the correlations observed in the correlation heatmap to forecast customer churn. By identifying early warning signs of potential churn, such as high customer service calls coupled with low usage or high charges, the client can proactively intervene with targeted retention efforts to prevent customer attrition.\n",
        "\n",
        "* **Competitive Pricing Analysis:** Conduct a competitive pricing analysis based on the correlations between usage patterns and charges. By benchmarking their pricing structures against competitors and considering customer preferences, the client can optimize their pricing strategies to remain competitive in the market while maximizing revenue and minimizing churn.\n",
        "\n",
        "* **Service Quality Monitoring:** Implement mechanisms to continuously monitor service quality indicators such as call drop rates, network performance, and customer feedback. By addressing service quality issues promptly and transparently, the client can build trust with customers and mitigate churn resulting from dissatisfaction with service reliability or performance.\n",
        "\n",
        "* **Customer Feedback Integration:** Integrate customer feedback mechanisms across touchpoints to capture insights directly from customers regarding their satisfaction levels, preferences, and pain points. Analyzing this feedback alongside quantitative data will provide a comprehensive understanding of customer sentiment and inform strategic decision-making to enhance customer experience and reduce churn."
      ],
      "metadata": {
        "id": "pASKb0qOza21"
      }
    },
    {
      "cell_type": "markdown",
      "source": [
        "# **Conclusion**"
      ],
      "metadata": {
        "id": "gCX9965dhzqZ"
      }
    },
    {
      "cell_type": "markdown",
      "source": [
        "Write the conclusion here.\n",
        "\n",
        "In conclusion, the analysis of the provided data has revealed valuable insights and opportunities for the client to achieve their business objectives of reducing churn, enhancing customer satisfaction, and driving sustainable growth. By leveraging the findings from exploratory data analysis and visualization techniques, several actionable recommendations can be proposed.\n",
        "\n",
        "* Firstly, optimizing customer service operations and improving the overall customer service experience emerged as a priority. Investing in training programs for customer service representatives and implementing efficient issue resolution processes can help reduce the number of customer service calls and enhance customer satisfaction.\n",
        "\n",
        "* Secondly, there is a need to evaluate and potentially enhance underutilized product offerings such as voicemail services. By reallocating resources towards more popular services or enhancing the features of less utilized ones, the client can align their product portfolio with customer preferences and increase customer engagement.\n",
        "\n",
        "* Furthermore, segmented marketing campaigns tailored to different customer segments based on usage patterns and preferences can be developed. Personalized offers and promotions targeting specific customer groups can help increase customer loyalty and reduce churn rates.\n",
        "\n",
        "* Additionally, predictive analytics models can be leveraged to forecast customer churn based on identified risk factors such as high service charges coupled with low usage or frequent customer service calls. Proactive retention efforts can then be initiated to prevent churn and retain valuable customers.\n",
        "\n",
        "* Moreover, conducting competitive pricing analysis and continuously monitoring service quality indicators are essential to remain competitive in the market and maintain high levels of customer satisfaction.\n",
        "\n",
        "* Lastly, integrating customer feedback mechanisms across touchpoints and analyzing customer sentiment alongside quantitative data can provide valuable insights for strategic decision-making and further enhance the customer experience.\n",
        "\n",
        "By implementing these recommendations, the client can address the challenges identified in the analysis and capitalize on the opportunities to achieve their business objectives effectively."
      ],
      "metadata": {
        "id": "Fjb1IsQkh3yE"
      }
    },
    {
      "cell_type": "markdown",
      "source": [
        "### ***Hurrah! You have successfully completed your EDA Capstone Project !!!***"
      ],
      "metadata": {
        "id": "gIfDvo9L0UH2"
      }
    }
  ]
}